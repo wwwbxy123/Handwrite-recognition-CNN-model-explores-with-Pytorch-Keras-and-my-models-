{
  "nbformat": 4,
  "nbformat_minor": 0,
  "metadata": {
    "colab": {
      "name": "Xinyi(Blanca) Bai lab8a.ipynb",
      "version": "0.3.2",
      "provenance": [],
      "collapsed_sections": [
        "7HjUEg_rMSrs",
        "usMFBvtccgzw",
        "E_hhhYa4dB6y",
        "24NmeOpndIWP",
        "-1Ja0YdU1Ihc",
        "7sAIm-Hp0TPt",
        "s_qIN9XG2yzi",
        "OdurHY95251T",
        "GdWHimbyUuJM",
        "V_TK-o203vVV",
        "13MwZLXl2HaZ",
        "7uZ7aRyl-Ugr",
        "Z6N6vJTOMzd1",
        "L4iUhLMkM6G0",
        "jhZPgC5DgNBT",
        "i3wZjtGcE264",
        "h27D84QOLCkg",
        "mrYQzIySK7j8",
        "t8fs1WSMdLtM",
        "yM9Lgi21dUg1",
        "U0m3hO4KTjcA",
        "B49pQpQAc_f2",
        "4drIecTQeZn2",
        "3_mf-OiiyQTr",
        "8PP-GMwc01xU",
        "waM6jXyH1TCE",
        "AWa8E9MV2B2f",
        "PlVboYdO8BGP",
        "ACu2zUXt8QWB",
        "u1DPR1w78wJD",
        "N_B3uXbuhA2d"
      ],
      "toc_visible": true,
      "include_colab_link": true
    },
    "kernelspec": {
      "name": "python3",
      "display_name": "Python 3"
    }
  },
  "cells": [
    {
      "cell_type": "markdown",
      "metadata": {
        "id": "view-in-github",
        "colab_type": "text"
      },
      "source": [
        "<a href=\"https://colab.research.google.com/github/wwwbxy123/Handwrite-recognition-CNN-model-explores-with-Pytorch-Keras-and-my-models-/blob/master/Xinyi(Blanca)_Bai_lab8a.ipynb\" target=\"_parent\"><img src=\"https://colab.research.google.com/assets/colab-badge.svg\" alt=\"Open In Colab\"/></a>"
      ]
    },
    {
      "metadata": {
        "id": "5Z5o_Kxya6bG",
        "colab_type": "text"
      },
      "cell_type": "markdown",
      "source": [
        "# Lab 8 Convolutional Neural Network\n"
      ]
    },
    {
      "metadata": {
        "id": "oLR5TYEEa-7w",
        "colab_type": "text"
      },
      "cell_type": "markdown",
      "source": [
        "Name: Xinyi (Blanca) Bai ID:xb52"
      ]
    },
    {
      "metadata": {
        "id": "ZlzxhSjbbET9",
        "colab_type": "text"
      },
      "cell_type": "markdown",
      "source": [
        "## 1. Pytorch Learning Curves"
      ]
    },
    {
      "metadata": {
        "id": "7HjUEg_rMSrs",
        "colab_type": "text"
      },
      "cell_type": "markdown",
      "source": [
        "### prepare the model "
      ]
    },
    {
      "metadata": {
        "id": "n7CM-qHXbPic",
        "colab_type": "text"
      },
      "cell_type": "markdown",
      "source": [
        "In this part, we explore the impact of the training dataset size on system performance. First, we train the model given in the PyTorch Tutorial with at least five different size training datasets. Then, we plot the accuracy achieved on the full test dataset for each trained model.\n"
      ]
    },
    {
      "metadata": {
        "id": "9MHeyRvqbUX8",
        "colab_type": "text"
      },
      "cell_type": "markdown",
      "source": [
        "For the analysis of this experiment we plot the accuracy achieved on the full test dataset for each trained model. On the same graph, for each trained model, we plot the accuracy achieved with the corresponding training dataset; every graph include a legend for the two plots."
      ]
    },
    {
      "metadata": {
        "id": "HsvWt31RaJzo",
        "colab_type": "code",
        "colab": {}
      },
      "cell_type": "code",
      "source": [
        "#install torch in google colab\n",
        "# http://pytorch.org/\n",
        "from os.path import exists\n",
        "from wheel.pep425tags import get_abbr_impl, get_impl_ver, get_abi_tag\n",
        "platform = '{}{}-{}'.format(get_abbr_impl(), get_impl_ver(), get_abi_tag())\n",
        "cuda_output = !ldconfig -p|grep cudart.so|sed -e 's/.*\\.\\([0-9]*\\)\\.\\([0-9]*\\)$/cu\\1\\2/'\n",
        "accelerator = cuda_output[0] if exists('/dev/nvidia0') else 'cpu'\n",
        "\n",
        "!pip install -q http://download.pytorch.org/whl/{accelerator}/torch-0.4.1-{platform}-linux_x86_64.whl torchvision"
      ],
      "execution_count": 0,
      "outputs": []
    },
    {
      "metadata": {
        "id": "L22xxgqTaUtC",
        "colab_type": "code",
        "outputId": "04adf105-43b0-4b47-b12e-a53d5050e42e",
        "colab": {
          "base_uri": "https://localhost:8080/",
          "height": 51
        }
      },
      "cell_type": "code",
      "source": [
        "import torch\n",
        "print(torch.__version__)\n",
        "print(torch.cuda.is_available())"
      ],
      "execution_count": 11,
      "outputs": [
        {
          "output_type": "stream",
          "text": [
            "0.4.1\n",
            "False\n"
          ],
          "name": "stdout"
        }
      ]
    },
    {
      "metadata": {
        "id": "_DiRsNBMagyE",
        "colab_type": "code",
        "outputId": "5488f3a9-1b17-454b-b810-b4d2d8abceda",
        "colab": {
          "base_uri": "https://localhost:8080/",
          "height": 221
        }
      },
      "cell_type": "code",
      "source": [
        "#initialization\n",
        "import torch.nn as nn\n",
        "import torchvision\n",
        "import torchvision.transforms as transforms\n",
        "import torchvision.datasets as datasets\n",
        "\n",
        "# Device configuration\n",
        "device = torch.device('cuda:0' if torch.cuda.is_available() else 'cpu')\n",
        "\n",
        "# Hyper parameters\n",
        "num_epochs = 5\n",
        "num_classes = 10\n",
        "batch_size = 100\n",
        "learning_rate = 0.001\n",
        "\n",
        "# MNIST dataset\n",
        "mnist_trainset = datasets.MNIST(root='./data', train=True, download=True, transform=None)\n",
        "len(mnist_trainset)\n",
        "print(mnist_trainset)\n",
        "\n",
        "train_dataset = torchvision.datasets.MNIST(root='./data/',\n",
        "                                           train=True, \n",
        "                                           transform=transforms.ToTensor(),\n",
        "                                           download=True)\n",
        "\n",
        "test_dataset = torchvision.datasets.MNIST(root='./data/',\n",
        "                                          train=False, \n",
        "                                          transform=transforms.ToTensor())\n"
      ],
      "execution_count": 12,
      "outputs": [
        {
          "output_type": "stream",
          "text": [
            "Downloading http://yann.lecun.com/exdb/mnist/train-images-idx3-ubyte.gz\n",
            "Downloading http://yann.lecun.com/exdb/mnist/train-labels-idx1-ubyte.gz\n",
            "Downloading http://yann.lecun.com/exdb/mnist/t10k-images-idx3-ubyte.gz\n",
            "Downloading http://yann.lecun.com/exdb/mnist/t10k-labels-idx1-ubyte.gz\n",
            "Processing...\n",
            "Done!\n",
            "Dataset MNIST\n",
            "    Number of datapoints: 60000\n",
            "    Split: train\n",
            "    Root Location: ./data\n",
            "    Transforms (if any): None\n",
            "    Target Transforms (if any): None\n"
          ],
          "name": "stdout"
        }
      ]
    },
    {
      "metadata": {
        "id": "_Lc23L-laxSJ",
        "colab_type": "code",
        "colab": {}
      },
      "cell_type": "code",
      "source": [
        "# Convolutional neural network (two convolutional layers)\n",
        "class ConvNet(nn.Module):\n",
        "    def __init__(self, num_classes=10):\n",
        "        super(ConvNet, self).__init__()\n",
        "        self.layer1 = nn.Sequential(\n",
        "            nn.Conv2d(1, 16, kernel_size=5, stride=1, padding=2),\n",
        "            nn.BatchNorm2d(16),\n",
        "            nn.ReLU(),\n",
        "            nn.MaxPool2d(kernel_size=2, stride=2))\n",
        "        self.layer2 = nn.Sequential(\n",
        "            nn.Conv2d(16, 32, kernel_size=5, stride=1, padding=2),\n",
        "            nn.BatchNorm2d(32),\n",
        "            nn.ReLU(),\n",
        "            nn.MaxPool2d(kernel_size=2, stride=2))\n",
        "        self.fc = nn.Linear(7*7*32, num_classes)\n",
        "        \n",
        "    def forward(self, x):\n",
        "        out = self.layer1(x)\n",
        "        out = self.layer2(out)\n",
        "        out = out.reshape(out.size(0), -1)\n",
        "        out = self.fc(out)\n",
        "        return out\n",
        "\n",
        "model = ConvNet(num_classes).to(device)"
      ],
      "execution_count": 0,
      "outputs": []
    },
    {
      "metadata": {
        "id": "OCYjmomva01n",
        "colab_type": "code",
        "colab": {}
      },
      "cell_type": "code",
      "source": [
        "# Loss and optimizer\n",
        "criterion = nn.CrossEntropyLoss()\n",
        "optimizer = torch.optim.Adam(model.parameters(), lr=learning_rate)"
      ],
      "execution_count": 0,
      "outputs": []
    },
    {
      "metadata": {
        "id": "_jquyrznThDS",
        "colab_type": "code",
        "colab": {}
      },
      "cell_type": "code",
      "source": [
        "# loade test MNIST set \n",
        "test_loader = torch.utils.data.DataLoader(dataset=test_dataset,\n",
        "                                          batch_size=batch_size, \n",
        "                                          shuffle=False)"
      ],
      "execution_count": 0,
      "outputs": []
    },
    {
      "metadata": {
        "id": "usMFBvtccgzw",
        "colab_type": "text"
      },
      "cell_type": "markdown",
      "source": [
        "### 1.1 experiment on 250 size trainning set"
      ]
    },
    {
      "metadata": {
        "id": "QZhX4flTyVVL",
        "colab_type": "text"
      },
      "cell_type": "markdown",
      "source": [
        "For training on 250 samples,  I reduce the batch size to 50 and in the training loop, and break after running for 5 iterations. "
      ]
    },
    {
      "metadata": {
        "colab_type": "code",
        "outputId": "a49035df-5fc5-4527-a073-f3586b5fff68",
        "id": "cjDA-0x4i6ls",
        "colab": {
          "base_uri": "https://localhost:8080/",
          "height": 442
        }
      },
      "cell_type": "code",
      "source": [
        "# Hyper parameters\n",
        "num_epochs = 5\n",
        "num_classes = 10\n",
        "batch_size = 50\n",
        "learning_rate = 0.001\n",
        "\n",
        "# Data loader\n",
        "\n",
        "# loade trainning MNIST set \n",
        "train_loader = torch.utils.data.DataLoader(dataset=train_dataset,\n",
        "                                           batch_size=batch_size, \n",
        "                                           shuffle=True)\n",
        "\n",
        "# Train the model\n",
        "total_step = len(train_loader)\n",
        "for epoch in range(num_epochs):\n",
        "    for i, (images, labels) in enumerate(train_loader):\n",
        "        if i > 4:\n",
        "            break\n",
        "        images = images.to(device)\n",
        "        labels = labels.to(device)\n",
        "        \n",
        "        # Forward pass\n",
        "        outputs = model(images)\n",
        "        loss = criterion(outputs, labels)\n",
        "        \n",
        "        # Backward and optimize\n",
        "        optimizer.zero_grad()\n",
        "        loss.backward()\n",
        "        optimizer.step()\n",
        "        \n",
        "        if (i+1) % 1 == 0:\n",
        "            print ('Epoch [{}/{}], Step [{}/{}], Loss: {:.4f}' \n",
        "                   .format(epoch+1, num_epochs, i+1, total_step, loss.item()))"
      ],
      "execution_count": 37,
      "outputs": [
        {
          "output_type": "stream",
          "text": [
            "Epoch [1/5], Step [1/1200], Loss: 0.1038\n",
            "Epoch [1/5], Step [2/1200], Loss: 0.0147\n",
            "Epoch [1/5], Step [3/1200], Loss: 0.0533\n",
            "Epoch [1/5], Step [4/1200], Loss: 0.1303\n",
            "Epoch [1/5], Step [5/1200], Loss: 0.0330\n",
            "Epoch [2/5], Step [1/1200], Loss: 0.0761\n",
            "Epoch [2/5], Step [2/1200], Loss: 0.0373\n",
            "Epoch [2/5], Step [3/1200], Loss: 0.1423\n",
            "Epoch [2/5], Step [4/1200], Loss: 0.0776\n",
            "Epoch [2/5], Step [5/1200], Loss: 0.0387\n",
            "Epoch [3/5], Step [1/1200], Loss: 0.0361\n",
            "Epoch [3/5], Step [2/1200], Loss: 0.0608\n",
            "Epoch [3/5], Step [3/1200], Loss: 0.0709\n",
            "Epoch [3/5], Step [4/1200], Loss: 0.2585\n",
            "Epoch [3/5], Step [5/1200], Loss: 0.0232\n",
            "Epoch [4/5], Step [1/1200], Loss: 0.2701\n",
            "Epoch [4/5], Step [2/1200], Loss: 0.0628\n",
            "Epoch [4/5], Step [3/1200], Loss: 0.1828\n",
            "Epoch [4/5], Step [4/1200], Loss: 0.0443\n",
            "Epoch [4/5], Step [5/1200], Loss: 0.0405\n",
            "Epoch [5/5], Step [1/1200], Loss: 0.1535\n",
            "Epoch [5/5], Step [2/1200], Loss: 0.0321\n",
            "Epoch [5/5], Step [3/1200], Loss: 0.0860\n",
            "Epoch [5/5], Step [4/1200], Loss: 0.0752\n",
            "Epoch [5/5], Step [5/1200], Loss: 0.2405\n"
          ],
          "name": "stdout"
        }
      ]
    },
    {
      "metadata": {
        "id": "izUVIltoc_7_",
        "colab_type": "code",
        "outputId": "289aea19-4db9-406e-d9a0-f5757692625f",
        "colab": {
          "base_uri": "https://localhost:8080/",
          "height": 34
        }
      },
      "cell_type": "code",
      "source": [
        "# Test the model on MNIST dataset\n",
        "model.eval()  # eval mode (batchnorm uses moving mean/variance instead of mini-batch mean/variance)\n",
        "with torch.no_grad():\n",
        "    correct = 0\n",
        "    total = 0\n",
        "    for images, labels in test_loader:\n",
        "        images = images.to(device)\n",
        "        labels = labels.to(device)\n",
        "        outputs = model(images)\n",
        "        _, predicted = torch.max(outputs.data, 1)\n",
        "        total += labels.size(0)\n",
        "        correct += (predicted == labels).sum().item()\n",
        "\n",
        "print('Test Accuracy of 250 images trained model on the MNIST fulltestset: {} %'.format(100 * correct / total))"
      ],
      "execution_count": 38,
      "outputs": [
        {
          "output_type": "stream",
          "text": [
            "Test Accuracy of 250 images trained model on the MNIST fulltestset: 97.34 %\n"
          ],
          "name": "stdout"
        }
      ]
    },
    {
      "metadata": {
        "id": "E_hhhYa4dB6y",
        "colab_type": "text"
      },
      "cell_type": "markdown",
      "source": [
        "### 1.2 experiment on 60000 size trainning set"
      ]
    },
    {
      "metadata": {
        "id": "jhoNgH9Obf6E",
        "colab_type": "code",
        "outputId": "3f4c70de-8c76-42de-a5d9-06e95b524a69",
        "colab": {
          "base_uri": "https://localhost:8080/",
          "height": 527
        }
      },
      "cell_type": "code",
      "source": [
        "# Hyper parameters\n",
        "num_epochs = 5\n",
        "num_classes = 10\n",
        "batch_size = 100\n",
        "learning_rate = 0.001\n",
        "\n",
        "# Data loader\n",
        "\n",
        "# loade trainning MNIST set \n",
        "train_loader = torch.utils.data.DataLoader(dataset=train_dataset,\n",
        "                                           batch_size=batch_size, \n",
        "                                           shuffle=True)\n",
        "# Train the model\n",
        "total_step = len(train_loader)\n",
        "for epoch in range(num_epochs):\n",
        "    for i, (images, labels) in enumerate(train_loader):\n",
        "        images = images.to(device)\n",
        "        labels = labels.to(device)\n",
        "        \n",
        "        # Forward pass\n",
        "        outputs = model(images)\n",
        "        loss = criterion(outputs, labels)\n",
        "        \n",
        "        # Backward and optimize\n",
        "        optimizer.zero_grad()\n",
        "        loss.backward()\n",
        "        optimizer.step()\n",
        "        \n",
        "        if (i+1) % 100 == 0:\n",
        "            print ('Epoch [{}/{}], Step [{}/{}], Loss: {:.4f}' \n",
        "                   .format(epoch+1, num_epochs, i+1, total_step, loss.item()))"
      ],
      "execution_count": 0,
      "outputs": [
        {
          "output_type": "stream",
          "text": [
            "Epoch [1/5], Step [100/600], Loss: 0.0015\n",
            "Epoch [1/5], Step [200/600], Loss: 0.0092\n",
            "Epoch [1/5], Step [300/600], Loss: 0.0043\n",
            "Epoch [1/5], Step [400/600], Loss: 0.0006\n",
            "Epoch [1/5], Step [500/600], Loss: 0.0015\n",
            "Epoch [1/5], Step [600/600], Loss: 0.0000\n",
            "Epoch [2/5], Step [100/600], Loss: 0.0072\n",
            "Epoch [2/5], Step [200/600], Loss: 0.0016\n",
            "Epoch [2/5], Step [300/600], Loss: 0.0089\n",
            "Epoch [2/5], Step [400/600], Loss: 0.0002\n",
            "Epoch [2/5], Step [500/600], Loss: 0.0003\n",
            "Epoch [2/5], Step [600/600], Loss: 0.0029\n",
            "Epoch [3/5], Step [100/600], Loss: 0.0185\n",
            "Epoch [3/5], Step [200/600], Loss: 0.0102\n",
            "Epoch [3/5], Step [300/600], Loss: 0.0504\n",
            "Epoch [3/5], Step [400/600], Loss: 0.0001\n",
            "Epoch [3/5], Step [500/600], Loss: 0.0015\n",
            "Epoch [3/5], Step [600/600], Loss: 0.0012\n",
            "Epoch [4/5], Step [100/600], Loss: 0.0032\n",
            "Epoch [4/5], Step [200/600], Loss: 0.0030\n",
            "Epoch [4/5], Step [300/600], Loss: 0.0001\n",
            "Epoch [4/5], Step [400/600], Loss: 0.0010\n",
            "Epoch [4/5], Step [500/600], Loss: 0.0003\n",
            "Epoch [4/5], Step [600/600], Loss: 0.0002\n",
            "Epoch [5/5], Step [100/600], Loss: 0.0004\n",
            "Epoch [5/5], Step [200/600], Loss: 0.0002\n",
            "Epoch [5/5], Step [300/600], Loss: 0.0015\n",
            "Epoch [5/5], Step [400/600], Loss: 0.0178\n",
            "Epoch [5/5], Step [500/600], Loss: 0.0099\n",
            "Epoch [5/5], Step [600/600], Loss: 0.0007\n"
          ],
          "name": "stdout"
        }
      ]
    },
    {
      "metadata": {
        "id": "9Kta38byb1I0",
        "colab_type": "code",
        "outputId": "9c12a841-dcfb-40dc-c1ad-9c2eb87627a7",
        "colab": {
          "base_uri": "https://localhost:8080/",
          "height": 34
        }
      },
      "cell_type": "code",
      "source": [
        "# Test the model on MNIST dataset\n",
        "model.eval()  # eval mode (batchnorm uses moving mean/variance instead of mini-batch mean/variance)\n",
        "with torch.no_grad():\n",
        "    correct = 0\n",
        "    total = 0\n",
        "    for images, labels in test_loader:\n",
        "        images = images.to(device)\n",
        "        labels = labels.to(device)\n",
        "        outputs = model(images)\n",
        "        _, predicted = torch.max(outputs.data, 1)\n",
        "        total += labels.size(0)\n",
        "        correct += (predicted == labels).sum().item()\n",
        "\n",
        "print('Test Accuracy of 60000 images trained model on the MNIST fulltestset:  {} %'.format(100 * correct / total))"
      ],
      "execution_count": 0,
      "outputs": [
        {
          "output_type": "stream",
          "text": [
            "Test Accuracy of 60000 images trained model on the MNIST fulltestset:  99.16 %\n"
          ],
          "name": "stdout"
        }
      ]
    },
    {
      "metadata": {
        "id": "24NmeOpndIWP",
        "colab_type": "text"
      },
      "cell_type": "markdown",
      "source": [
        "### 1.3 experiment on 100 size trainning set"
      ]
    },
    {
      "metadata": {
        "id": "pbsFA-E3zudp",
        "colab_type": "text"
      },
      "cell_type": "markdown",
      "source": [
        "For trainning on 100 samples, I reduce the batch size to 20 and in the training loop, and break after running for 5 iterations."
      ]
    },
    {
      "metadata": {
        "id": "5Dy6AjyQjW23",
        "colab_type": "code",
        "outputId": "b4e5e687-fef7-4536-e70e-e0fee7c29fe2",
        "colab": {
          "base_uri": "https://localhost:8080/",
          "height": 187
        }
      },
      "cell_type": "code",
      "source": [
        "# Hyper parameters\n",
        "num_epochs = 5\n",
        "num_classes = 10\n",
        "batch_size = 50\n",
        "learning_rate = 0.001\n",
        "\n",
        "# Data loader\n",
        "\n",
        "# loade trainning MNIST set \n",
        "train_loader = torch.utils.data.DataLoader(dataset=train_dataset,\n",
        "                                           batch_size=batch_size, \n",
        "                                           shuffle=True)\n",
        "\n",
        "# Train the model\n",
        "total_step = len(train_loader)\n",
        "for epoch in range(num_epochs):\n",
        "    for i, (images, labels) in enumerate(train_loader):\n",
        "        if i > 1:\n",
        "            break\n",
        "        images = images.to(device)\n",
        "        labels = labels.to(device)\n",
        "        \n",
        "        # Forward pass\n",
        "        outputs = model(images)\n",
        "        loss = criterion(outputs, labels)\n",
        "        \n",
        "        # Backward and optimize\n",
        "        optimizer.zero_grad()\n",
        "        loss.backward()\n",
        "        optimizer.step()\n",
        "        \n",
        "        if (i+1) % 1 == 0:\n",
        "            print ('Epoch [{}/{}], Step [{}/{}], Loss: {:.4f}' \n",
        "                   .format(epoch+1, num_epochs, i+1, total_step, loss.item()))"
      ],
      "execution_count": 43,
      "outputs": [
        {
          "output_type": "stream",
          "text": [
            "Epoch [1/5], Step [1/1200], Loss: 0.0722\n",
            "Epoch [1/5], Step [2/1200], Loss: 0.0147\n",
            "Epoch [2/5], Step [1/1200], Loss: 0.1786\n",
            "Epoch [2/5], Step [2/1200], Loss: 0.1091\n",
            "Epoch [3/5], Step [1/1200], Loss: 0.0816\n",
            "Epoch [3/5], Step [2/1200], Loss: 0.0406\n",
            "Epoch [4/5], Step [1/1200], Loss: 0.1090\n",
            "Epoch [4/5], Step [2/1200], Loss: 0.0348\n",
            "Epoch [5/5], Step [1/1200], Loss: 0.0416\n",
            "Epoch [5/5], Step [2/1200], Loss: 0.2683\n"
          ],
          "name": "stdout"
        }
      ]
    },
    {
      "metadata": {
        "id": "13yQvxvzykCZ",
        "colab_type": "code",
        "outputId": "d12eb6dc-1cc4-441c-a92d-6484036d6deb",
        "colab": {
          "base_uri": "https://localhost:8080/",
          "height": 34
        }
      },
      "cell_type": "code",
      "source": [
        "# Test the model on MNIST dataset\n",
        "model.eval()  # eval mode (batchnorm uses moving mean/variance instead of mini-batch mean/variance)\n",
        "with torch.no_grad():\n",
        "    correct = 0\n",
        "    total = 0\n",
        "    for images, labels in test_loader:\n",
        "        images = images.to(device)\n",
        "        labels = labels.to(device)\n",
        "        outputs = model(images)\n",
        "        _, predicted = torch.max(outputs.data, 1)\n",
        "        total += labels.size(0)\n",
        "        correct += (predicted == labels).sum().item()\n",
        "\n",
        "print('Test Accuracy of 100 images trained model on the MNIST fulltestset: {} %'.format(100 * correct / total))"
      ],
      "execution_count": 44,
      "outputs": [
        {
          "output_type": "stream",
          "text": [
            "Test Accuracy of 100 images trained model on the MNIST fulltestset: 96.96 %\n"
          ],
          "name": "stdout"
        }
      ]
    },
    {
      "metadata": {
        "id": "wBoC5hPwzKTO",
        "colab_type": "text"
      },
      "cell_type": "markdown",
      "source": [
        "I try another way to use 100 test images, I reduce the batch size to 50 and in the training loop, and break after running for 2 iterations."
      ]
    },
    {
      "metadata": {
        "id": "-1Ja0YdU1Ihc",
        "colab_type": "text"
      },
      "cell_type": "markdown",
      "source": [
        "### 1.4 Experiment on 500 size trainning set"
      ]
    },
    {
      "metadata": {
        "id": "n6Njb63A1hbC",
        "colab_type": "text"
      },
      "cell_type": "markdown",
      "source": [
        "For trainning on 500 samples, I reduce the batch size to 50 and in the training loop, and break after running for 10 iterations."
      ]
    },
    {
      "metadata": {
        "id": "erorUQoY1k0D",
        "colab_type": "code",
        "outputId": "9e2e2e25-8d73-4916-e84d-2e1c331b2e89",
        "colab": {
          "base_uri": "https://localhost:8080/",
          "height": 867
        }
      },
      "cell_type": "code",
      "source": [
        "# Hyper parameters\n",
        "num_epochs = 5\n",
        "num_classes = 10\n",
        "batch_size = 50\n",
        "learning_rate = 0.001\n",
        "\n",
        "# Data loader\n",
        "\n",
        "# loade trainning MNIST set \n",
        "train_loader = torch.utils.data.DataLoader(dataset=train_dataset,\n",
        "                                           batch_size=batch_size, \n",
        "                                           shuffle=True)\n",
        "\n",
        "# Train the model\n",
        "total_step = len(train_loader)\n",
        "for epoch in range(num_epochs):\n",
        "    for i, (images, labels) in enumerate(train_loader):\n",
        "        if i > 9:\n",
        "            break\n",
        "        images = images.to(device)\n",
        "        labels = labels.to(device)\n",
        "        \n",
        "        # Forward pass\n",
        "        outputs = model(images)\n",
        "        loss = criterion(outputs, labels)\n",
        "        \n",
        "        # Backward and optimize\n",
        "        optimizer.zero_grad()\n",
        "        loss.backward()\n",
        "        optimizer.step()\n",
        "        \n",
        "        if (i+1) % 1 == 0:\n",
        "            print ('Epoch [{}/{}], Step [{}/{}], Loss: {:.4f}' \n",
        "                   .format(epoch+1, num_epochs, i+1, total_step, loss.item()))"
      ],
      "execution_count": 33,
      "outputs": [
        {
          "output_type": "stream",
          "text": [
            "Epoch [1/5], Step [1/1200], Loss: 0.0599\n",
            "Epoch [1/5], Step [2/1200], Loss: 0.0912\n",
            "Epoch [1/5], Step [3/1200], Loss: 0.0453\n",
            "Epoch [1/5], Step [4/1200], Loss: 0.3845\n",
            "Epoch [1/5], Step [5/1200], Loss: 0.1963\n",
            "Epoch [1/5], Step [6/1200], Loss: 0.0493\n",
            "Epoch [1/5], Step [7/1200], Loss: 0.1884\n",
            "Epoch [1/5], Step [8/1200], Loss: 0.1996\n",
            "Epoch [1/5], Step [9/1200], Loss: 0.0225\n",
            "Epoch [1/5], Step [10/1200], Loss: 0.0335\n",
            "Epoch [2/5], Step [1/1200], Loss: 0.0984\n",
            "Epoch [2/5], Step [2/1200], Loss: 0.1915\n",
            "Epoch [2/5], Step [3/1200], Loss: 0.0806\n",
            "Epoch [2/5], Step [4/1200], Loss: 0.1534\n",
            "Epoch [2/5], Step [5/1200], Loss: 0.1624\n",
            "Epoch [2/5], Step [6/1200], Loss: 0.2446\n",
            "Epoch [2/5], Step [7/1200], Loss: 0.0835\n",
            "Epoch [2/5], Step [8/1200], Loss: 0.0458\n",
            "Epoch [2/5], Step [9/1200], Loss: 0.1156\n",
            "Epoch [2/5], Step [10/1200], Loss: 0.2022\n",
            "Epoch [3/5], Step [1/1200], Loss: 0.2288\n",
            "Epoch [3/5], Step [2/1200], Loss: 0.1137\n",
            "Epoch [3/5], Step [3/1200], Loss: 0.0117\n",
            "Epoch [3/5], Step [4/1200], Loss: 0.0419\n",
            "Epoch [3/5], Step [5/1200], Loss: 0.0294\n",
            "Epoch [3/5], Step [6/1200], Loss: 0.1057\n",
            "Epoch [3/5], Step [7/1200], Loss: 0.0586\n",
            "Epoch [3/5], Step [8/1200], Loss: 0.0430\n",
            "Epoch [3/5], Step [9/1200], Loss: 0.1252\n",
            "Epoch [3/5], Step [10/1200], Loss: 0.0780\n",
            "Epoch [4/5], Step [1/1200], Loss: 0.0685\n",
            "Epoch [4/5], Step [2/1200], Loss: 0.1433\n",
            "Epoch [4/5], Step [3/1200], Loss: 0.0482\n",
            "Epoch [4/5], Step [4/1200], Loss: 0.0856\n",
            "Epoch [4/5], Step [5/1200], Loss: 0.1392\n",
            "Epoch [4/5], Step [6/1200], Loss: 0.0546\n",
            "Epoch [4/5], Step [7/1200], Loss: 0.0262\n",
            "Epoch [4/5], Step [8/1200], Loss: 0.1700\n",
            "Epoch [4/5], Step [9/1200], Loss: 0.0165\n",
            "Epoch [4/5], Step [10/1200], Loss: 0.0319\n",
            "Epoch [5/5], Step [1/1200], Loss: 0.1612\n",
            "Epoch [5/5], Step [2/1200], Loss: 0.0191\n",
            "Epoch [5/5], Step [3/1200], Loss: 0.0612\n",
            "Epoch [5/5], Step [4/1200], Loss: 0.1419\n",
            "Epoch [5/5], Step [5/1200], Loss: 0.0474\n",
            "Epoch [5/5], Step [6/1200], Loss: 0.2092\n",
            "Epoch [5/5], Step [7/1200], Loss: 0.0915\n",
            "Epoch [5/5], Step [8/1200], Loss: 0.1428\n",
            "Epoch [5/5], Step [9/1200], Loss: 0.0505\n",
            "Epoch [5/5], Step [10/1200], Loss: 0.1797\n"
          ],
          "name": "stdout"
        }
      ]
    },
    {
      "metadata": {
        "id": "UWkf_U-w1qVR",
        "colab_type": "code",
        "outputId": "869900ef-84c7-42cd-d7e2-bfa659dcf913",
        "colab": {
          "base_uri": "https://localhost:8080/",
          "height": 34
        }
      },
      "cell_type": "code",
      "source": [
        "# Test the model on MNIST dataset\n",
        "model.eval()  # eval mode (batchnorm uses moving mean/variance instead of mini-batch mean/variance)\n",
        "with torch.no_grad():\n",
        "    correct = 0\n",
        "    total = 0\n",
        "    for images, labels in test_loader:\n",
        "        images = images.to(device)\n",
        "        labels = labels.to(device)\n",
        "        outputs = model(images)\n",
        "        _, predicted = torch.max(outputs.data, 1)\n",
        "        total += labels.size(0)\n",
        "        correct += (predicted == labels).sum().item()\n",
        "\n",
        "print('Test Accuracy of 500 images trained model on the MNIST fulltestset {} %'.format(100 * correct / total))"
      ],
      "execution_count": 34,
      "outputs": [
        {
          "output_type": "stream",
          "text": [
            "Test Accuracy of 500 images trained model on the MNIST fulltestset 96.37 %\n"
          ],
          "name": "stdout"
        }
      ]
    },
    {
      "metadata": {
        "id": "7sAIm-Hp0TPt",
        "colab_type": "text"
      },
      "cell_type": "markdown",
      "source": [
        "### 1.5 Experiment on 1000 size trainning set"
      ]
    },
    {
      "metadata": {
        "id": "0kU0JeFX0b8c",
        "colab_type": "text"
      },
      "cell_type": "markdown",
      "source": [
        "For trainning on 1000 samples, I reduce the batch size to 50 and in the training loop, and break after running for 1 iterations."
      ]
    },
    {
      "metadata": {
        "id": "G0uTlZU20Bcs",
        "colab_type": "code",
        "outputId": "f120ac85-683d-4a0d-b5f3-bacbb38120f4",
        "colab": {
          "base_uri": "https://localhost:8080/",
          "height": 1717
        }
      },
      "cell_type": "code",
      "source": [
        "# Hyper parameters\n",
        "num_epochs = 5\n",
        "num_classes = 10\n",
        "batch_size = 50\n",
        "learning_rate = 0.001\n",
        "\n",
        "# Data loader\n",
        "\n",
        "# loade trainning MNIST set \n",
        "train_loader = torch.utils.data.DataLoader(dataset=train_dataset,\n",
        "                                           batch_size=batch_size, \n",
        "                                           shuffle=True)\n",
        "\n",
        "# Train the model\n",
        "total_step = len(train_loader)\n",
        "for epoch in range(num_epochs):\n",
        "    for i, (images, labels) in enumerate(train_loader):\n",
        "        if i > 19:\n",
        "            break\n",
        "        images = images.to(device)\n",
        "        labels = labels.to(device)\n",
        "        \n",
        "        # Forward pass\n",
        "        outputs = model(images)\n",
        "        loss = criterion(outputs, labels)\n",
        "        \n",
        "        # Backward and optimize\n",
        "        optimizer.zero_grad()\n",
        "        loss.backward()\n",
        "        optimizer.step()\n",
        "        \n",
        "        if (i+1) % 1 == 0:\n",
        "            print ('Epoch [{}/{}], Step [{}/{}], Loss: {:.4f}' \n",
        "                   .format(epoch+1, num_epochs, i+1, total_step, loss.item()))"
      ],
      "execution_count": 25,
      "outputs": [
        {
          "output_type": "stream",
          "text": [
            "Epoch [1/5], Step [1/1200], Loss: 0.2157\n",
            "Epoch [1/5], Step [2/1200], Loss: 0.1117\n",
            "Epoch [1/5], Step [3/1200], Loss: 0.1269\n",
            "Epoch [1/5], Step [4/1200], Loss: 0.3519\n",
            "Epoch [1/5], Step [5/1200], Loss: 0.4409\n",
            "Epoch [1/5], Step [6/1200], Loss: 0.1794\n",
            "Epoch [1/5], Step [7/1200], Loss: 0.2232\n",
            "Epoch [1/5], Step [8/1200], Loss: 0.0731\n",
            "Epoch [1/5], Step [9/1200], Loss: 0.0976\n",
            "Epoch [1/5], Step [10/1200], Loss: 0.2520\n",
            "Epoch [1/5], Step [11/1200], Loss: 0.2931\n",
            "Epoch [1/5], Step [12/1200], Loss: 0.2557\n",
            "Epoch [1/5], Step [13/1200], Loss: 0.2141\n",
            "Epoch [1/5], Step [14/1200], Loss: 0.1530\n",
            "Epoch [1/5], Step [15/1200], Loss: 0.1124\n",
            "Epoch [1/5], Step [16/1200], Loss: 0.1799\n",
            "Epoch [1/5], Step [17/1200], Loss: 0.3999\n",
            "Epoch [1/5], Step [18/1200], Loss: 0.1780\n",
            "Epoch [1/5], Step [19/1200], Loss: 0.2943\n",
            "Epoch [1/5], Step [20/1200], Loss: 0.1722\n",
            "Epoch [2/5], Step [1/1200], Loss: 0.3431\n",
            "Epoch [2/5], Step [2/1200], Loss: 0.1553\n",
            "Epoch [2/5], Step [3/1200], Loss: 0.1118\n",
            "Epoch [2/5], Step [4/1200], Loss: 0.1381\n",
            "Epoch [2/5], Step [5/1200], Loss: 0.1069\n",
            "Epoch [2/5], Step [6/1200], Loss: 0.0829\n",
            "Epoch [2/5], Step [7/1200], Loss: 0.1286\n",
            "Epoch [2/5], Step [8/1200], Loss: 0.2010\n",
            "Epoch [2/5], Step [9/1200], Loss: 0.2945\n",
            "Epoch [2/5], Step [10/1200], Loss: 0.1253\n",
            "Epoch [2/5], Step [11/1200], Loss: 0.1288\n",
            "Epoch [2/5], Step [12/1200], Loss: 0.1755\n",
            "Epoch [2/5], Step [13/1200], Loss: 0.3863\n",
            "Epoch [2/5], Step [14/1200], Loss: 0.2230\n",
            "Epoch [2/5], Step [15/1200], Loss: 0.1621\n",
            "Epoch [2/5], Step [16/1200], Loss: 0.1849\n",
            "Epoch [2/5], Step [17/1200], Loss: 0.1427\n",
            "Epoch [2/5], Step [18/1200], Loss: 0.2358\n",
            "Epoch [2/5], Step [19/1200], Loss: 0.2761\n",
            "Epoch [2/5], Step [20/1200], Loss: 0.0813\n",
            "Epoch [3/5], Step [1/1200], Loss: 0.1960\n",
            "Epoch [3/5], Step [2/1200], Loss: 0.2192\n",
            "Epoch [3/5], Step [3/1200], Loss: 0.1868\n",
            "Epoch [3/5], Step [4/1200], Loss: 0.1386\n",
            "Epoch [3/5], Step [5/1200], Loss: 0.0536\n",
            "Epoch [3/5], Step [6/1200], Loss: 0.2578\n",
            "Epoch [3/5], Step [7/1200], Loss: 0.2112\n",
            "Epoch [3/5], Step [8/1200], Loss: 0.1816\n",
            "Epoch [3/5], Step [9/1200], Loss: 0.1074\n",
            "Epoch [3/5], Step [10/1200], Loss: 0.1948\n",
            "Epoch [3/5], Step [11/1200], Loss: 0.2515\n",
            "Epoch [3/5], Step [12/1200], Loss: 0.1567\n",
            "Epoch [3/5], Step [13/1200], Loss: 0.1882\n",
            "Epoch [3/5], Step [14/1200], Loss: 0.2580\n",
            "Epoch [3/5], Step [15/1200], Loss: 0.1244\n",
            "Epoch [3/5], Step [16/1200], Loss: 0.2248\n",
            "Epoch [3/5], Step [17/1200], Loss: 0.1831\n",
            "Epoch [3/5], Step [18/1200], Loss: 0.0648\n",
            "Epoch [3/5], Step [19/1200], Loss: 0.1784\n",
            "Epoch [3/5], Step [20/1200], Loss: 0.2254\n",
            "Epoch [4/5], Step [1/1200], Loss: 0.1835\n",
            "Epoch [4/5], Step [2/1200], Loss: 0.0822\n",
            "Epoch [4/5], Step [3/1200], Loss: 0.1873\n",
            "Epoch [4/5], Step [4/1200], Loss: 0.0554\n",
            "Epoch [4/5], Step [5/1200], Loss: 0.1185\n",
            "Epoch [4/5], Step [6/1200], Loss: 0.0808\n",
            "Epoch [4/5], Step [7/1200], Loss: 0.0679\n",
            "Epoch [4/5], Step [8/1200], Loss: 0.1334\n",
            "Epoch [4/5], Step [9/1200], Loss: 0.1437\n",
            "Epoch [4/5], Step [10/1200], Loss: 0.1824\n",
            "Epoch [4/5], Step [11/1200], Loss: 0.0548\n",
            "Epoch [4/5], Step [12/1200], Loss: 0.2583\n",
            "Epoch [4/5], Step [13/1200], Loss: 0.1297\n",
            "Epoch [4/5], Step [14/1200], Loss: 0.1139\n",
            "Epoch [4/5], Step [15/1200], Loss: 0.2632\n",
            "Epoch [4/5], Step [16/1200], Loss: 0.0408\n",
            "Epoch [4/5], Step [17/1200], Loss: 0.0553\n",
            "Epoch [4/5], Step [18/1200], Loss: 0.0715\n",
            "Epoch [4/5], Step [19/1200], Loss: 0.0875\n",
            "Epoch [4/5], Step [20/1200], Loss: 0.0755\n",
            "Epoch [5/5], Step [1/1200], Loss: 0.0520\n",
            "Epoch [5/5], Step [2/1200], Loss: 0.0319\n",
            "Epoch [5/5], Step [3/1200], Loss: 0.1075\n",
            "Epoch [5/5], Step [4/1200], Loss: 0.0339\n",
            "Epoch [5/5], Step [5/1200], Loss: 0.0271\n",
            "Epoch [5/5], Step [6/1200], Loss: 0.1398\n",
            "Epoch [5/5], Step [7/1200], Loss: 0.0841\n",
            "Epoch [5/5], Step [8/1200], Loss: 0.0382\n",
            "Epoch [5/5], Step [9/1200], Loss: 0.0604\n",
            "Epoch [5/5], Step [10/1200], Loss: 0.1299\n",
            "Epoch [5/5], Step [11/1200], Loss: 0.0443\n",
            "Epoch [5/5], Step [12/1200], Loss: 0.0249\n",
            "Epoch [5/5], Step [13/1200], Loss: 0.1328\n",
            "Epoch [5/5], Step [14/1200], Loss: 0.1967\n",
            "Epoch [5/5], Step [15/1200], Loss: 0.0923\n",
            "Epoch [5/5], Step [16/1200], Loss: 0.1146\n",
            "Epoch [5/5], Step [17/1200], Loss: 0.1975\n",
            "Epoch [5/5], Step [18/1200], Loss: 0.1472\n",
            "Epoch [5/5], Step [19/1200], Loss: 0.0192\n",
            "Epoch [5/5], Step [20/1200], Loss: 0.0683\n"
          ],
          "name": "stdout"
        }
      ]
    },
    {
      "metadata": {
        "id": "u5C9JEj90qYT",
        "colab_type": "code",
        "outputId": "f1c7c56e-8152-4440-bc39-886f9dbb28bc",
        "colab": {
          "base_uri": "https://localhost:8080/",
          "height": 34
        }
      },
      "cell_type": "code",
      "source": [
        "# Test the model on MNIST dataset\n",
        "model.eval()  # eval mode (batchnorm uses moving mean/variance instead of mini-batch mean/variance)\n",
        "with torch.no_grad():\n",
        "    correct = 0\n",
        "    total = 0\n",
        "    for images, labels in test_loader:\n",
        "        images = images.to(device)\n",
        "        labels = labels.to(device)\n",
        "        outputs = model(images)\n",
        "        _, predicted = torch.max(outputs.data, 1)\n",
        "        total += labels.size(0)\n",
        "        correct += (predicted == labels).sum().item()\n",
        "\n",
        "print('Test Accuracy of 1000 images trained model on the MNIST fulltestset: {} %'.format(100 * correct / total))\n"
      ],
      "execution_count": 26,
      "outputs": [
        {
          "output_type": "stream",
          "text": [
            "Test Accuracy of 1000 images trained model on the MNIST fulltestset: 96.81 %\n"
          ],
          "name": "stdout"
        }
      ]
    },
    {
      "metadata": {
        "id": "s_qIN9XG2yzi",
        "colab_type": "text"
      },
      "cell_type": "markdown",
      "source": [
        "### Discussion and plot"
      ]
    },
    {
      "metadata": {
        "id": "OdurHY95251T",
        "colab_type": "text"
      },
      "cell_type": "markdown",
      "source": [
        "#### The accuracy achieved on the full test MNIST dataset for each trained model is:\n"
      ]
    },
    {
      "metadata": {
        "id": "MbJIQqbwUMYG",
        "colab_type": "text"
      },
      "cell_type": "markdown",
      "source": [
        "Test Accuracy of 100 images trained model on the MNIST fulltestset: 96.96 %\n",
        "\n",
        "Test Accuracy of 250 images trained model on the MNIST fulltestset: 97.34 %\n",
        "\n",
        "Test Accuracy of 500 images trained model on the MNIST fulltestset: 96.37 %\n",
        "\n",
        "Test Accuracy of 1000 images trained model on the MNIST fulltestset: 95.08 %\n",
        "\n",
        "Test Accuracy of 60000 images trained model on the MNIST fulltestset:  99.16 %\n",
        "\n",
        "In conclusion, In a large range, as the increase of the trainning dataset, the test accuracy increases."
      ]
    },
    {
      "metadata": {
        "id": "GdWHimbyUuJM",
        "colab_type": "text"
      },
      "cell_type": "markdown",
      "source": [
        "#### The accuracy of trainning"
      ]
    },
    {
      "metadata": {
        "id": "NUDRwD4VU5Ss",
        "colab_type": "text"
      },
      "cell_type": "markdown",
      "source": [
        "Trainning Accuracy of 100 images trained model : (1- 0.2683) * 100% = 73.17%\n",
        "\n",
        "Trainning Accuracy of 250 images trained model: (1- 0.2405) * 100% = 75.95% \n",
        "\n",
        "Trainning Accuracy of 500 images trained model: (1- 0.1797) * 100% = 82.03%\n",
        "\n",
        "Trainning Accuracy of 1000 images trained model: (1- 0.0683) * 100% = 93.17%\n",
        "\n",
        "Trainning Accuracy of 60000 images trained model : (1- 0.0007) * 100% = 99.93%\n",
        "\n",
        "In conclusion, In a large range, as the increase of the trainning dataset, the train accuracy increases."
      ]
    },
    {
      "metadata": {
        "id": "V_TK-o203vVV",
        "colab_type": "text"
      },
      "cell_type": "markdown",
      "source": [
        "#### The learning curve"
      ]
    },
    {
      "metadata": {
        "id": "OnsVRPwQ4DAA",
        "colab_type": "code",
        "colab": {
          "base_uri": "https://localhost:8080/",
          "height": 393
        },
        "outputId": "53375707-b9cd-4d2c-8000-7371d08a89c3"
      },
      "cell_type": "code",
      "source": [
        "import matplotlib.pyplot as plt\n",
        "trainSet = [100, 250, 500, 1000, 60000]\n",
        "testAccuracy = [0.9696, 0.9734, 0.9637, 0.9508, 0.9916]\n",
        "trainAccuracy = [0.7317, 0.7595, 0.8203, 0.9317, 0.9993]\n",
        "x = np.arange(1,6)\n",
        "#plt.ylim(0.7, 1)\n",
        "#plt.xlim(0,1200, 60000 )\n",
        "plt.figure(1)\n",
        "plt.title('Learning curve for CNN model in tutorial')\n",
        "#plt.axis([100, 250, 500, 1000, 60000])\n",
        "plt.plot( x, testAccuracy, marker='o')\n",
        "plt.plot( x, trainAccuracy, marker='*')\n",
        "plt.xlabel('Size of trainning dataset: 100, 250, 500, 1000, 60000')\n",
        "plt.ylabel('Accuracy')\n",
        "plt.legend()\n",
        "plt.show()\n"
      ],
      "execution_count": 76,
      "outputs": [
        {
          "output_type": "stream",
          "text": [
            "No handles with labels found to put in legend.\n"
          ],
          "name": "stderr"
        },
        {
          "output_type": "display_data",
          "data": {
            "image/png": "[encoded data removed]",
            "text/plain": [
              "<matplotlib.figure.Figure at 0x7f9ad931e6a0>"
            ]
          },
          "metadata": {
            "tags": []
          }
        }
      ]
    },
    {
      "metadata": {
        "id": "sFanpPsR2mDC",
        "colab_type": "text"
      },
      "cell_type": "markdown",
      "source": [
        "#### Discussion"
      ]
    },
    {
      "metadata": {
        "id": "sLrgKhxGcuRI",
        "colab_type": "text"
      },
      "cell_type": "markdown",
      "source": [
        "Because the range of my train dataset is so large, it range from 100 to 60000, and there is no train dataset between 1200-59000, so to make the dot distribute more clear in my line graph, I change the X axis, the correct X value of every dot  is in the legend of X axis.   \n",
        "\n",
        "In conclusion, In a large range, as the increase of the trainning dataset, both the test accuracy and the train accuracy increases.\n",
        "\n",
        "why did the test accuracy is not absolute linear increased by the size of trainning dataset. Because I set the epoch = 1 to speed up trainning process, which make the performance of every model fluctuate much during every time I train and test.\n",
        "If I increase the epoch to let it iterate more during the trainning process, the performance will be more stable."
      ]
    },
    {
      "metadata": {
        "id": "13MwZLXl2HaZ",
        "colab_type": "text"
      },
      "cell_type": "markdown",
      "source": [
        "##  2. Pytorch system evaluation"
      ]
    },
    {
      "metadata": {
        "id": "zQsp77aJ2OdX",
        "colab_type": "text"
      },
      "cell_type": "markdown",
      "source": [
        "Select the best and worst performing of the trained models in part 1. For each of these models test with both the training set and my own test set.\n",
        "\n",
        "The code of testing on my dataset is in another notebook because of some tricky issue of loading my own dataset and make dataloader,\n",
        "the code of experiemnt in MNIST dataset are in part 1.\n",
        "So in this part, we just discuss the test accuracy of the two models."
      ]
    },
    {
      "metadata": {
        "id": "7uZ7aRyl-Ugr",
        "colab_type": "text"
      },
      "cell_type": "markdown",
      "source": [
        "### 2.1 The best performing of the trained models is the 60000 images trained model.\n",
        "\n"
      ]
    },
    {
      "metadata": {
        "id": "gNvrLpXQMwPG",
        "colab_type": "text"
      },
      "cell_type": "markdown",
      "source": [
        "For this model: \n",
        "\n",
        "the test accuracy on MNIST dataset is : 99.16 %\n",
        "\n",
        "the test accuracy on my dataset is: 73.33333333333333 %\n",
        "\n",
        "\n",
        "\n"
      ]
    },
    {
      "metadata": {
        "id": "Z6N6vJTOMzd1",
        "colab_type": "text"
      },
      "cell_type": "markdown",
      "source": [
        "### 2.2 The worse performing of the trained models is the 100 images trained model.\n",
        "\n"
      ]
    },
    {
      "metadata": {
        "id": "eSKhS6htM3pX",
        "colab_type": "text"
      },
      "cell_type": "markdown",
      "source": [
        "For this model:\n",
        "\n",
        "the test accuracy on MNIST dataset is : 96.96 %\n",
        "\n",
        "the test accuracy on my dataset is: 66.66666666666667 %\n",
        "\n",
        "\n"
      ]
    },
    {
      "metadata": {
        "id": "L4iUhLMkM6G0",
        "colab_type": "text"
      },
      "cell_type": "markdown",
      "source": [
        "### 2.3 The accuracy of other models on mydataset:\n"
      ]
    },
    {
      "metadata": {
        "id": "iDPyxTVnQrLi",
        "colab_type": "text"
      },
      "cell_type": "markdown",
      "source": [
        "\n",
        "Test Accuracy of 100 images trained model on the my dataset: 66.66666666666667 %\n",
        "\n",
        "Test Accuracy of 250 images trained model on the my dataset: 68.33333333333333 %\n",
        "\n",
        "Test Accuracy of 500 images trained model on the my dataset: 70.0 %\n",
        "\n",
        "Test Accuracy of 1000 images trained model on the my dataset: 68.33333333333333 %\n",
        "\n",
        "Test Accuracy of 60000 images trained model on the my dataset: 73.33333333333333 %\n"
      ]
    },
    {
      "metadata": {
        "id": "jhZPgC5DgNBT",
        "colab_type": "text"
      },
      "cell_type": "markdown",
      "source": [
        "### 2.4 learning curve for my testset and discussion"
      ]
    },
    {
      "metadata": {
        "id": "Gap50HT7etcM",
        "colab_type": "code",
        "colab": {
          "base_uri": "https://localhost:8080/",
          "height": 376
        },
        "outputId": "a8381200-4d71-46cf-c908-cd8970b54514"
      },
      "cell_type": "code",
      "source": [
        "import matplotlib.pyplot as plt\n",
        "trainSet = [100, 250, 500, 1000, 60000]\n",
        "mytestAccuracy = [0.6667, 0.6833, 0.70, 0.6833, 0.7333]\n",
        "\n",
        "plt.ylim(0.6, 0.8)\n",
        "#plt.xlim(0,1200, 60000 )\n",
        "plt.figure(1)\n",
        "plt.title('Learning curve for CNN model tested on my dataset in tutorial')\n",
        "plt.plot(trainSet, mytestAccuracy, marker='o', label='Test accuracy on my data')\n",
        "plt.xlabel('Size of trainning dataset')\n",
        "plt.ylabel('Test accuracy on my data')\n",
        "plt.legend()\n",
        "plt.show()\n"
      ],
      "execution_count": 50,
      "outputs": [
        {
          "output_type": "display_data",
          "data": {
            "image/png": "[encoded data removed]",
            "text/plain": [
              "<matplotlib.figure.Figure at 0x7f9aed5c9ac8>"
            ]
          },
          "metadata": {
            "tags": []
          }
        }
      ]
    },
    {
      "metadata": {
        "id": "Arl3bY6Mf1xj",
        "colab_type": "text"
      },
      "cell_type": "markdown",
      "source": [
        "In conclusion, In a large range, as the increase of the trainning dataset, both the test accuracy on my data set and on MNIST dataset increases."
      ]
    },
    {
      "metadata": {
        "id": "L8spUaVD-OwC",
        "colab_type": "text"
      },
      "cell_type": "markdown",
      "source": [
        "## 3. Keras model design\n"
      ]
    },
    {
      "metadata": {
        "id": "ynknFota-TZm",
        "colab_type": "text"
      },
      "cell_type": "markdown",
      "source": [
        "We explore different model designs using the Keras framework."
      ]
    },
    {
      "metadata": {
        "id": "kRgGjytKNDJz",
        "colab_type": "text"
      },
      "cell_type": "markdown",
      "source": [
        "### Prepare the 1st model in tutorial"
      ]
    },
    {
      "metadata": {
        "id": "usURR9VF-SHU",
        "colab_type": "code",
        "outputId": "307d8ce5-d638-47bf-b5aa-99a13a874e6d",
        "colab": {
          "base_uri": "https://localhost:8080/",
          "height": 119
        }
      },
      "cell_type": "code",
      "source": [
        "'''Trains a simple convnet on the MNIST dataset.\n",
        "Gets to 99.25% test accuracy after 12 epochs\n",
        "(there is still a lot of margin for parameter tuning).\n",
        "16 seconds per epoch on a GRID K520 GPU.\n",
        "'''\n",
        "\n",
        "from __future__ import print_function\n",
        "import keras\n",
        "from keras.datasets import mnist\n",
        "from keras.models import Sequential\n",
        "from keras.layers import Dense, Dropout, Flatten\n",
        "from keras.layers import Conv2D, MaxPooling2D\n",
        "from keras import backend as K\n",
        "\n",
        "batch_size = 128\n",
        "num_classes = 10\n",
        "epochs = 1\n",
        "\n",
        "# input image dimensions\n",
        "img_rows, img_cols = 28, 28\n",
        "\n",
        "# the data, split between train and test sets\n",
        "(x_train, y_train), (x_test, y_test) = mnist.load_data()\n",
        "\n",
        "if K.image_data_format() == 'channels_first':\n",
        "    x_train = x_train.reshape(x_train.shape[0], 1, img_rows, img_cols)\n",
        "    x_test = x_test.reshape(x_test.shape[0], 1, img_rows, img_cols)\n",
        "    input_shape = (1, img_rows, img_cols)\n",
        "else:\n",
        "    x_train = x_train.reshape(x_train.shape[0], img_rows, img_cols, 1)\n",
        "    x_test = x_test.reshape(x_test.shape[0], img_rows, img_cols, 1)\n",
        "    input_shape = (img_rows, img_cols, 1)\n",
        "\n",
        "x_train = x_train.astype('float32')\n",
        "x_test = x_test.astype('float32')\n",
        "x_train /= 255\n",
        "x_test /= 255\n",
        "print('x_train shape:', x_train.shape)\n",
        "print(x_train.shape[0], 'train samples')\n",
        "print(x_test.shape[0], 'test samples')\n",
        "\n",
        "# convert class vectors to binary class matrices\n",
        "y_train = keras.utils.to_categorical(y_train, num_classes)\n",
        "y_test = keras.utils.to_categorical(y_test, num_classes)\n"
      ],
      "execution_count": 2,
      "outputs": [
        {
          "output_type": "stream",
          "text": [
            "Using TensorFlow backend.\n"
          ],
          "name": "stderr"
        },
        {
          "output_type": "stream",
          "text": [
            "Downloading data from https://s3.amazonaws.com/img-datasets/mnist.npz\n",
            "11493376/11490434 [==============================] - 0s 0us/step\n",
            "x_train shape: (60000, 28, 28, 1)\n",
            "60000 train samples\n",
            "10000 test samples\n"
          ],
          "name": "stdout"
        }
      ]
    },
    {
      "metadata": {
        "id": "7KqZgw9VcoRH",
        "colab_type": "code",
        "outputId": "9efcf931-f4ce-4731-8aba-3d8983e2f9bd",
        "colab": {
          "base_uri": "https://localhost:8080/",
          "height": 127
        }
      },
      "cell_type": "code",
      "source": [
        "#build 1st model according to tutorial\n",
        "model = Sequential()\n",
        "#add layer\n",
        "model.add(Conv2D(32, kernel_size=(3, 3),\n",
        "                 activation='relu',\n",
        "                 input_shape=input_shape))\n",
        "model.add(Conv2D(64, (3, 3), activation='relu'))\n",
        "model.add(MaxPooling2D(pool_size=(2, 2)))\n",
        "model.add(Dropout(0.25))\n",
        "model.add(Flatten())\n",
        "model.add(Dense(128, activation='relu'))\n",
        "model.add(Dropout(0.5))\n",
        "model.add(Dense(num_classes, activation='softmax'))\n",
        "\n",
        "model.compile(loss=keras.losses.categorical_crossentropy,\n",
        "              optimizer=keras.optimizers.Adadelta(),\n",
        "              metrics=['accuracy'])\n",
        "\n",
        "model.fit(x_train, y_train,\n",
        "          batch_size=batch_size,\n",
        "          epochs=epochs,\n",
        "          verbose=1,\n",
        "          validation_data=(x_test, y_test))\n",
        "score = model.evaluate(x_test, y_test, verbose=0)\n",
        "print('Test loss for model in tutorial:', score[0])\n",
        "print('Test accuracy for model in tutorial:', score[1])"
      ],
      "execution_count": 0,
      "outputs": [
        {
          "output_type": "stream",
          "text": [
            "Train on 60000 samples, validate on 10000 samples\n",
            "Epoch 1/1\n",
            "60000/60000 [==============================] - 171s 3ms/step - loss: 0.2638 - acc: 0.9192 - val_loss: 0.0592 - val_acc: 0.9796\n",
            "Test loss for model in tutorial: 0.05922309949898626\n",
            "Test accuracy for model in tutorial: 0.9796\n"
          ],
          "name": "stdout"
        }
      ]
    },
    {
      "metadata": {
        "id": "i3wZjtGcE264",
        "colab_type": "text"
      },
      "cell_type": "markdown",
      "source": [
        "### 3.1 Show a confusion matrix for the result of the model in the tutorial."
      ]
    },
    {
      "metadata": {
        "id": "h27D84QOLCkg",
        "colab_type": "text"
      },
      "cell_type": "markdown",
      "source": [
        "#### 3.1.1 Show the unnormalized confusion matrix for the result of the model in the tutorial."
      ]
    },
    {
      "metadata": {
        "id": "-BRKUSgNCPC8",
        "colab_type": "code",
        "outputId": "5b606913-5559-4fbe-a8ad-67be030fb12f",
        "colab": {
          "base_uri": "https://localhost:8080/",
          "height": 51
        }
      },
      "cell_type": "code",
      "source": [
        "from sklearn.metrics import confusion_matrix\n",
        "import numpy as np\n",
        "\n",
        "Y_pred = model.predict(x_test)\n",
        "y_pred = np.argmax(Y_pred, axis=1)\n",
        "Y_test = np.argmax(y_test, axis=1)\n",
        "\n",
        "print(\"y_predicted_values\", y_pred)\n",
        "print(\"Y_test_values\", Y_test)"
      ],
      "execution_count": 0,
      "outputs": [
        {
          "output_type": "stream",
          "text": [
            "y_predicted_values [7 2 1 ... 4 5 6]\n",
            "Y_test_values [7 2 1 ... 4 5 6]\n"
          ],
          "name": "stdout"
        }
      ]
    },
    {
      "metadata": {
        "id": "slM9gZXmF_Rm",
        "colab_type": "code",
        "outputId": "ab1dbf51-c4dd-4cbe-8a91-7b4db5a51582",
        "colab": {
          "base_uri": "https://localhost:8080/",
          "height": 187
        }
      },
      "cell_type": "code",
      "source": [
        "#import matplotlib.pyplot as plt \n",
        "cfm = confusion_matrix(Y_test, y_pred)\n",
        "print (cfm)\n",
        "\n",
        "#plt.imshow(cfm)\n",
        "#plt.title('My title')\n",
        "#plt.xlabel('categories')\n",
        "#plt.ylabel('values')\n",
        "#plt.show()"
      ],
      "execution_count": 0,
      "outputs": [
        {
          "output_type": "stream",
          "text": [
            "[[ 975    0    1    0    0    1    2    1    0    0]\n",
            " [   0 1130    1    2    0    0    1    0    1    0]\n",
            " [   2    3 1019    1    1    0    0    6    0    0]\n",
            " [   0    0    3  994    0    5    0    5    2    1]\n",
            " [   0    0    2    0  964    0    4    0    2   10]\n",
            " [   1    0    1    5    0  880    2    1    1    1]\n",
            " [   8    3    0    0    4    5  938    0    0    0]\n",
            " [   1    3   14    2    0    0    0 1001    2    5]\n",
            " [   6    1    6    2    4    4    2    4  940    5]\n",
            " [   3    5    0    3    5    5    0    5    3  980]]\n"
          ],
          "name": "stdout"
        }
      ]
    },
    {
      "metadata": {
        "id": "mrYQzIySK7j8",
        "colab_type": "text"
      },
      "cell_type": "markdown",
      "source": [
        "#### 3.1.2 Show normalized confusion matrix for the result of the model in the tutorial."
      ]
    },
    {
      "metadata": {
        "id": "o0gTS6RhJNdy",
        "colab_type": "code",
        "outputId": "be42cd45-a019-47d2-ae09-35dd25a49467",
        "colab": {
          "base_uri": "https://localhost:8080/",
          "height": 394
        }
      },
      "cell_type": "code",
      "source": [
        "## A more elegant preserntation for a confusion matrix\n",
        "\n",
        "import itertools\n",
        "def plot_confusion_matrix(cm, classes,\n",
        "                          normalize=False,\n",
        "                          title='Confusion matrix',\n",
        "                          cmap=plt.cm.Blues):\n",
        "    \"\"\"\n",
        "    This function prints and plots the confusion matrix.\n",
        "    Normalization can be applied by setting `normalize=True`.\n",
        "    \"\"\"\n",
        "    if normalize:\n",
        "        cm = cm.astype('float') / cm.sum(axis=1)[:, np.newaxis]\n",
        "        print(\"Normalized confusion matrix\")\n",
        "    else:\n",
        "        print('Confusion matrix, without normalization')\n",
        "\n",
        "    #print(cm)\n",
        "\n",
        "    plt.imshow(cm, interpolation='nearest', cmap=cmap)\n",
        "    plt.title(title)\n",
        "    plt.colorbar()\n",
        "    tick_marks = np.arange(len(classes))\n",
        "    plt.xticks(tick_marks, classes, rotation=45)\n",
        "    plt.yticks(tick_marks, classes)\n",
        "\n",
        "    fmt = '.2f' if normalize else 'd'\n",
        "    thresh = cm.max() / 2.\n",
        "    for i, j in itertools.product(range(cm.shape[0]), range(cm.shape[1])):\n",
        "        plt.text(j, i, format(cm[i, j], fmt),\n",
        "                 horizontalalignment=\"center\",\n",
        "                 color=\"white\" if cm[i, j] > thresh else \"black\")\n",
        "        \n",
        "    plt.ylabel('True label')\n",
        "    plt.xlabel('Predicted label')\n",
        "    #plt.tight_layout()\n",
        "    plt.show()\n",
        "\n",
        "plot_confusion_matrix(cfm, classes=range(10), normalize=True,\n",
        "                      title='Confusion matrix for MNIST')"
      ],
      "execution_count": 0,
      "outputs": [
        {
          "output_type": "stream",
          "text": [
            "Normalized confusion matrix\n"
          ],
          "name": "stdout"
        },
        {
          "output_type": "display_data",
          "data": {
            "image/png": "[encoded data removed]",
            "text/plain": [
              "<matplotlib.figure.Figure at 0x7f705ad59e10>"
            ]
          },
          "metadata": {
            "tags": []
          }
        }
      ]
    },
    {
      "metadata": {
        "id": "OVCTQ1SqNOjv",
        "colab_type": "text"
      },
      "cell_type": "markdown",
      "source": [
        "### 3.2 CNN model with batch normalization and image standardization "
      ]
    },
    {
      "metadata": {
        "id": "kcLC8uUrTedJ",
        "colab_type": "text"
      },
      "cell_type": "markdown",
      "source": [
        "#### 3.2.1 only batch normalization"
      ]
    },
    {
      "metadata": {
        "id": "t8fs1WSMdLtM",
        "colab_type": "text"
      },
      "cell_type": "markdown",
      "source": [
        "##### add one batch norm layer"
      ]
    },
    {
      "metadata": {
        "id": "OIIkRdZMNZ3H",
        "colab_type": "code",
        "outputId": "2153f8ee-448e-4182-c4f4-9065bddd6c7e",
        "colab": {
          "base_uri": "https://localhost:8080/",
          "height": 122
        }
      },
      "cell_type": "code",
      "source": [
        "#build model2 with batch norm \n",
        "model2 = Sequential()\n",
        "#add layer\n",
        "\n",
        "model2.add(Conv2D(32, kernel_size=(3, 3), activation='relu', input_shape=input_shape))\n",
        "\n",
        "# add batch norm layer\n",
        "model2.add(keras.layers.BatchNormalization(axis=-1, momentum=0.99, epsilon=0.001, center=True, scale=True, beta_initializer='zeros', gamma_initializer='ones', moving_mean_initializer='zeros', moving_variance_initializer='ones', beta_regularizer=None, gamma_regularizer=None, beta_constraint=None, gamma_constraint=None))\n",
        "\n",
        "model2.add(Conv2D(64, (3, 3), activation='relu'))\n",
        "model2.add(MaxPooling2D(pool_size=(2, 2)))\n",
        "model2.add(Dropout(0.25))\n",
        "model2.add(Flatten())\n",
        "model2.add(Dense(128, activation='relu'))\n",
        "model2.add(Dropout(0.5))\n",
        "model2.add(Dense(num_classes, activation='softmax'))\n",
        "\n",
        "model2.compile(loss=keras.losses.categorical_crossentropy,\n",
        "              optimizer=keras.optimizers.Adadelta(),\n",
        "              metrics=['accuracy'])\n",
        "\n",
        "model2.fit(x_train, y_train,\n",
        "          batch_size=batch_size,\n",
        "          epochs=epochs,\n",
        "          verbose=1,\n",
        "          validation_data=(x_test, y_test))\n",
        "score = model2.evaluate(x_test, y_test, verbose=0)\n",
        "print('Test loss for model in tutorial with batch norm:', score[0])\n",
        "print('Test accuracy for model in tutorial with batch norm::', score[1])"
      ],
      "execution_count": 0,
      "outputs": [
        {
          "output_type": "stream",
          "text": [
            "Train on 60000 samples, validate on 10000 samples\n",
            "Epoch 1/1\n",
            "60000/60000 [==============================] - 227s 4ms/step - loss: 0.3143 - acc: 0.9051 - val_loss: 0.0534 - val_acc: 0.9822\n",
            "Test loss for model in tutorial with batch norm: 0.05342521703434177\n",
            "Test accuracy for model in tutorial with batch norm:: 0.9822\n"
          ],
          "name": "stdout"
        }
      ]
    },
    {
      "metadata": {
        "id": "yM9Lgi21dUg1",
        "colab_type": "text"
      },
      "cell_type": "markdown",
      "source": [
        "##### add two batch norm layer"
      ]
    },
    {
      "metadata": {
        "id": "JeNZXb8Mdap5",
        "colab_type": "code",
        "outputId": "6ba9e5ab-c126-4611-c0a9-6c9bae4a1fab",
        "colab": {
          "base_uri": "https://localhost:8080/",
          "height": 127
        }
      },
      "cell_type": "code",
      "source": [
        "#build model22 with 2 batch norm layer\n",
        "model22 = Sequential()\n",
        "#add layer\n",
        "\n",
        "model22.add(Conv2D(32, kernel_size=(3, 3), activation='relu', input_shape=input_shape))\n",
        "\n",
        "# add batch norm layer\n",
        "model22.add(keras.layers.BatchNormalization(axis=-1, momentum=0.99, epsilon=0.001, center=True, scale=True, beta_initializer='zeros', gamma_initializer='ones', moving_mean_initializer='zeros', moving_variance_initializer='ones', beta_regularizer=None, gamma_regularizer=None, beta_constraint=None, gamma_constraint=None))\n",
        "\n",
        "model22.add(Conv2D(64, (3, 3), activation='relu'))\n",
        "model22.add(MaxPooling2D(pool_size=(2, 2)))\n",
        "model22.add(Dropout(0.25))\n",
        "model22.add(Flatten())\n",
        "model22.add(Dense(128, activation='relu'))\n",
        "model22.add(Dropout(0.5))\n",
        "\n",
        "# add batch norm layer\n",
        "model22.add(keras.layers.BatchNormalization(axis=-1, momentum=0.99, epsilon=0.001, center=True, scale=True, beta_initializer='zeros', gamma_initializer='ones', moving_mean_initializer='zeros', moving_variance_initializer='ones', beta_regularizer=None, gamma_regularizer=None, beta_constraint=None, gamma_constraint=None))\n",
        "\n",
        "model22.add(Dense(num_classes, activation='softmax'))\n",
        "model22.compile(loss=keras.losses.categorical_crossentropy,\n",
        "              optimizer=keras.optimizers.Adadelta(),\n",
        "              metrics=['accuracy'])\n",
        "\n",
        "model22.fit(x_train, y_train,\n",
        "          batch_size=batch_size,\n",
        "          epochs=epochs,\n",
        "          verbose=1,\n",
        "          validation_data=(x_test, y_test))\n",
        "score = model22.evaluate(x_test, y_test, verbose=0)\n",
        "print('Test loss for model in tutorial with 2 batch norm layers:', score[0])\n",
        "print('Test accuracy for model in tutorial with 2 batch norm layers:', score[1])"
      ],
      "execution_count": 0,
      "outputs": [
        {
          "output_type": "stream",
          "text": [
            "Train on 60000 samples, validate on 10000 samples\n",
            "Epoch 1/1\n",
            "60000/60000 [==============================] - 228s 4ms/step - loss: 0.1996 - acc: 0.9459 - val_loss: 0.0569 - val_acc: 0.9837\n",
            "Test loss for model in tutorial with 2 batch norm layers: 0.05689856858402491\n",
            "Test accuracy for model in tutorial with 2 batch norm layers: 0.9837\n"
          ],
          "name": "stdout"
        }
      ]
    },
    {
      "metadata": {
        "id": "U0m3hO4KTjcA",
        "colab_type": "text"
      },
      "cell_type": "markdown",
      "source": [
        "#### 3.2.2 only image standarlization"
      ]
    },
    {
      "metadata": {
        "id": "P6tuzmj_Tq5D",
        "colab_type": "code",
        "outputId": "87e98da9-da16-4dc2-efa0-52e41b893a4c",
        "colab": {
          "base_uri": "https://localhost:8080/",
          "height": 1005
        }
      },
      "cell_type": "code",
      "source": [
        "#build model3 according to tutorial\n",
        "\n",
        "#from sklearn import preprocessing\n",
        "#from sklearn.preprocessing import StandardScaler  \n",
        "#x_train2d = x_train.reshape(x_train.shape[0], 784)\n",
        "#x_test2d = x_test.reshape(x_test.shape[0], 784)\n",
        "#scaler = StandardScaler()  \n",
        "# fit only on training data\n",
        "#scaled_x_train = scaler.fit_transform(x_train2d) / 255\n",
        "# apply same transformation to test data\n",
        "#scaled_x_test = scaler.transform(x_test2d) / 255\n",
        "\n",
        "import numpy as np\n",
        "\n",
        "#standardlize\n",
        "testmean= np.mean(x_test)\n",
        "teststd= np.std(x_test, axis = 0)\n",
        "scaled_x_test = (x_test - testmean) / teststd\n",
        "\n",
        "trainmean= np.mean(x_train)\n",
        "trainstd= np.std(x_test, axis = 0)\n",
        "scaled_x_train = (x_train - trainmean) / trainstd\n",
        "\n",
        "#build model with image standarlization\n",
        "model3 = Sequential()\n",
        "#add layer\n",
        "\n",
        "model3.add(Conv2D(32, kernel_size=(3, 3), activation='relu', input_shape=input_shape))\n",
        "model3.add(Conv2D(64, (3, 3), activation='relu'))\n",
        "model3.add(MaxPooling2D(pool_size=(2, 2)))\n",
        "model3.add(Dropout(0.25))\n",
        "model3.add(Flatten())\n",
        "model3.add(Dense(128, activation='relu'))\n",
        "model3.add(Dropout(0.5))\n",
        "model3.add(Dense(num_classes, activation='softmax'))\n",
        "\n",
        "model3.compile(loss=keras.losses.categorical_crossentropy,\n",
        "              optimizer=keras.optimizers.Adadelta(),\n",
        "              metrics=['accuracy'])\n",
        "\n",
        "model3.fit(scaled_x_train, y_train,\n",
        "          batch_size=batch_size,\n",
        "          epochs=epochs,\n",
        "          verbose=1,\n",
        "          validation_data=(scaled_x_test, y_test))\n",
        "\n",
        "score = model3.evaluate(scaled_x_test, y_test, verbose=0)\n",
        "print('Test loss for model in tutorial with image standardlization:', score[0])\n",
        "print('Test accuracy for model in tutorial with image standardlization:', score[1])"
      ],
      "execution_count": 6,
      "outputs": [
        {
          "output_type": "stream",
          "text": [
            "/usr/local/lib/python3.6/dist-packages/ipykernel_launcher.py:7: RuntimeWarning: divide by zero encountered in true_divide\n",
            "  import sys\n",
            "/usr/local/lib/python3.6/dist-packages/ipykernel_launcher.py:11: RuntimeWarning: divide by zero encountered in true_divide\n",
            "  # This is added back by InteractiveShellApp.init_path()\n"
          ],
          "name": "stderr"
        },
        {
          "output_type": "stream",
          "text": [
            "Train on 60000 samples, validate on 10000 samples\n",
            "Epoch 1/1\n",
            "60000/60000 [==============================] - 167s 3ms/step - loss: nan - acc: 0.0987 - val_loss: nan - val_acc: 0.0980\n",
            "Test loss for model in tutorial with image standardlization: nan\n",
            "Test accuracy for model in tutorial with image standardlization: 0.098\n"
          ],
          "name": "stdout"
        }
      ]
    },
    {
      "metadata": {
        "id": "mtdmH32cB1up",
        "colab_type": "text"
      },
      "cell_type": "markdown",
      "source": [
        "Why dose my loss shows NAN:\n",
        "\n",
        "Because I choosed a not proper batch size, the batch size I choose equals to Its minimum, which is 1, resulting in stochastic gradient descent: Fast but the direction of the gradient step is based only on one example, the loss may jump around."
      ]
    },
    {
      "metadata": {
        "id": "B49pQpQAc_f2",
        "colab_type": "text"
      },
      "cell_type": "markdown",
      "source": [
        "#### 3.2.2 use both image standarlization and batch normalization"
      ]
    },
    {
      "metadata": {
        "id": "rHhO0OPZdFw4",
        "colab_type": "code",
        "outputId": "b2c7d92b-b9eb-4ba6-f0da-08d5db97bd83",
        "colab": {
          "base_uri": "https://localhost:8080/",
          "height": 1005
        }
      },
      "cell_type": "code",
      "source": [
        "#build model4 according to tutorial\n",
        "\n",
        "import numpy as np\n",
        "\n",
        "#standardlize\n",
        "testmean= np.mean(x_test)\n",
        "teststd= np.std(x_test, axis = 0)\n",
        "scaled_x_test = (x_test - testmean) / teststd\n",
        "\n",
        "trainmean= np.mean(x_train)\n",
        "trainstd= np.std(x_test, axis = 0)\n",
        "scaled_x_train = (x_train - trainmean) / trainstd\n",
        "\n",
        "\n",
        "#build model with image standarlization\n",
        "model4 = Sequential()\n",
        "#add layer\n",
        "\n",
        "model4.add(Conv2D(32, kernel_size=(3, 3), activation='relu', input_shape=input_shape))\n",
        "\n",
        "# add batch norm layer\n",
        "model4.add(keras.layers.BatchNormalization(axis=-1, momentum=0.99, epsilon=0.001, center=True, scale=True, beta_initializer='zeros', gamma_initializer='ones', moving_mean_initializer='zeros', moving_variance_initializer='ones', beta_regularizer=None, gamma_regularizer=None, beta_constraint=None, gamma_constraint=None))\n",
        "\n",
        "\n",
        "model4.add(Conv2D(64, (3, 3), activation='relu'))\n",
        "model4.add(MaxPooling2D(pool_size=(2, 2)))\n",
        "model4.add(Dropout(0.25))\n",
        "model4.add(Flatten())\n",
        "model4.add(Dense(128, activation='relu'))\n",
        "model4.add(Dropout(0.5))\n",
        "model4.add(Dense(num_classes, activation='softmax'))\n",
        "\n",
        "model4.compile(loss=keras.losses.categorical_crossentropy,\n",
        "              optimizer=keras.optimizers.Adadelta(),\n",
        "              metrics=['accuracy'])\n",
        "\n",
        "model4.fit(scaled_x_train, y_train,\n",
        "          batch_size=batch_size,\n",
        "          epochs=epochs,\n",
        "          verbose=1,\n",
        "          validation_data=(scaled_x_test, y_test))\n",
        "\n",
        "score = model4.evaluate(scaled_x_test, y_test, verbose=0)\n",
        "print('Test loss for model in tutorial with image standardlization and batch norm:', score[0])\n",
        "print('Test accuracy for model in tutorial with image standardlization and batch norm:', score[1])"
      ],
      "execution_count": 0,
      "outputs": [
        {
          "output_type": "stream",
          "text": [
            "/usr/local/lib/python3.6/dist-packages/ipykernel_launcher.py:6: RuntimeWarning: divide by zero encountered in true_divide\n",
            "  \n",
            "/usr/local/lib/python3.6/dist-packages/ipykernel_launcher.py:10: RuntimeWarning: divide by zero encountered in true_divide\n",
            "  # Remove the CWD from sys.path while we load stuff.\n"
          ],
          "name": "stderr"
        },
        {
          "output_type": "stream",
          "text": [
            "Train on 60000 samples, validate on 10000 samples\n",
            "Epoch 1/1\n",
            "60000/60000 [==============================] - 227s 4ms/step - loss: nan - acc: 0.0987 - val_loss: nan - val_acc: 0.0980\n",
            "Test loss for model in tutorial with image standardlization and batch norm: nan\n",
            "Test accuracy for model in tutorial with image standardlization and batch norm: 0.098\n"
          ],
          "name": "stdout"
        }
      ]
    },
    {
      "metadata": {
        "id": "XkGKIJhA5W37",
        "colab_type": "text"
      },
      "cell_type": "markdown",
      "source": [
        "### Discussion"
      ]
    },
    {
      "metadata": {
        "id": "HvsSLvkh3yy3",
        "colab_type": "text"
      },
      "cell_type": "markdown",
      "source": [
        "We use the test accuracy as the metrix to evaluate the performance of the model we build. \n",
        "\n",
        "We find that to increase the performance, the batch norm layer is better to add between conv layers or near the output layer, but before the dense layer.\n",
        "Through my experiment on adding different numbers of batch norm layer, I find my model with 2 batch norm layer will be better than my model with only one batch norm layer. And the first batch norm layer I add between the two conv layer, the second I add before the last dense layer near the output layer.\n",
        "\n",
        "Main parameters of my batch norm layer is: axis=-1, momentum=0.99, epsilon=0.001\n",
        "\n",
        "Sometimes batch norm layer will destroy the model, especially when we do batch norm before the first conv layer or in the output layer.\n",
        "\n",
        "For the **reason**, we can think that the batch norm will be some kind of adaptive (or learnable) pre-processing block with trainable parameters. Which also means that we need to back-propagate them.\n",
        "\n",
        "Here is the list of advantages of using Batch-Norm:\n",
        "\n",
        "1. Improves gradient flow, used on very deep models (Resnet need this)\n",
        "2. Allow higher learning rates\n",
        "3. Reduce dependency on initialization\n",
        "4. Gives some kind of regularization (Even make Dropout less important but keep using it)\n",
        "5. As a rule of thumb if you use Dropout+BatchNorm you don't need L2 regularization\n",
        "\n",
        "For standarlization: \n",
        "A strange value is my loss, which is NAN, I think it probabily because I choosed a not proper batch size, or my epoch is so low that only equals 1, so the loss may jump around."
      ]
    },
    {
      "metadata": {
        "id": "4drIecTQeZn2",
        "colab_type": "text"
      },
      "cell_type": "markdown",
      "source": [
        "### 3.3 CNN model with a new convolution layer to the model in the tutorial"
      ]
    },
    {
      "metadata": {
        "id": "ohswQT2iefes",
        "colab_type": "code",
        "outputId": "5005423f-f9e3-4c48-dbee-ae5eefb29648",
        "colab": {
          "base_uri": "https://localhost:8080/",
          "height": 127
        }
      },
      "cell_type": "code",
      "source": [
        "#build model5 according to tutorial\n",
        "\n",
        "model5 = Sequential()\n",
        "#add layer\n",
        "model5.add(Conv2D(32, kernel_size=(3, 3),\n",
        "                 activation='relu',\n",
        "                 input_shape=input_shape))\n",
        "model5.add(Conv2D(64, (3, 3), activation='relu'))\n",
        "model5.add(MaxPooling2D(pool_size=(2, 2)))\n",
        "\n",
        "# add conv layer and pooling layer\n",
        "model5.add(Conv2D(64, (3, 3), activation='relu'))\n",
        "model5.add(MaxPooling2D(pool_size=(2, 2)))\n",
        "\n",
        "model5.add(Dropout(0.25))\n",
        "model5.add(Flatten())\n",
        "model5.add(Dense(128, activation='relu'))\n",
        "model5.add(Dropout(0.5))\n",
        "model5.add(Dense(num_classes, activation='softmax'))\n",
        "\n",
        "model5.compile(loss=keras.losses.categorical_crossentropy,\n",
        "              optimizer=keras.optimizers.Adadelta(),\n",
        "              metrics=['accuracy'])\n",
        "\n",
        "model5.fit(x_train, y_train,\n",
        "          batch_size=batch_size,\n",
        "          epochs=epochs,\n",
        "          verbose=1,\n",
        "          validation_data=(x_test, y_test))\n",
        "score = model5.evaluate(x_test, y_test, verbose=0)\n",
        "print('Test loss for model I add a new conv layer and pool layer:', score[0])\n",
        "print('Test accuracy for model I add a new conv layer and pool layer:', score[1])"
      ],
      "execution_count": 0,
      "outputs": [
        {
          "output_type": "stream",
          "text": [
            "Train on 60000 samples, validate on 10000 samples\n",
            "Epoch 1/1\n",
            "60000/60000 [==============================] - 185s 3ms/step - loss: 0.2751 - acc: 0.9123 - val_loss: 0.0513 - val_acc: 0.9839\n",
            "Test loss for model in tutorial: 0.051303200916352217\n",
            "Test accuracy for model in tutorial: 0.9839\n"
          ],
          "name": "stdout"
        }
      ]
    },
    {
      "metadata": {
        "id": "xCPPgahE3v4o",
        "colab_type": "text"
      },
      "cell_type": "markdown",
      "source": [
        "### Discussion"
      ]
    },
    {
      "metadata": {
        "id": "5ji-6UwUxPVm",
        "colab_type": "text"
      },
      "cell_type": "markdown",
      "source": [
        " We add another convolutional + max pooling layer, with 64 output channels.  The default strides argument in the Conv2D() function is (1, 1) in Keras, so we can leave it out.  The default strides argument in Keras is to make it equal ot the pool size, so again, we can leave it out.\n",
        " \n",
        " This model contains 10 layers: a conv layer with 3X3 kernal; a conv layer with 3X3 kernal; a pooling layer; a conv layer with 3X3 kernal; a pooling layer; a Dropout(0.25) layer; a flatten layer; a dense(128) layer; a dropout(0.5) layer; a dense layer. \n",
        "\n",
        "Test accuracy for this model is : 0.9839\n",
        "Train accuracy for this model is : 0.4870"
      ]
    },
    {
      "metadata": {
        "id": "3_mf-OiiyQTr",
        "colab_type": "text"
      },
      "cell_type": "markdown",
      "source": [
        "### 3.4  Modify the model to improve performance"
      ]
    },
    {
      "metadata": {
        "id": "8Oe0Uj6QyWje",
        "colab_type": "text"
      },
      "cell_type": "markdown",
      "source": [
        " Modify the model in any way  and see how much you can improve the performance. Include a table in this report which list which hyperparameter settings you explored and the associated performance. Show a confusion matrix for your best trained model."
      ]
    },
    {
      "metadata": {
        "id": "8PP-GMwc01xU",
        "colab_type": "text"
      },
      "cell_type": "markdown",
      "source": [
        "#### model6 with a new conv layer with 3X3 kernal, and a pooling layer, also two batch norm layers."
      ]
    },
    {
      "metadata": {
        "id": "EH2fPcs0ynAj",
        "colab_type": "code",
        "outputId": "b71bc7f6-7e9b-4746-c191-abe1895580ac",
        "colab": {
          "base_uri": "https://localhost:8080/",
          "height": 122
        }
      },
      "cell_type": "code",
      "source": [
        "#build model6 according to tutorial\n",
        "\n",
        "model6 = Sequential()\n",
        "#add layer\n",
        "model6.add(Conv2D(32, kernel_size=(3, 3),\n",
        "                 activation='relu',\n",
        "                 input_shape=input_shape))\n",
        "\n",
        "# add batch norm layer\n",
        "model6.add(keras.layers.BatchNormalization(axis=-1, momentum=0.99, epsilon=0.001, center=True, scale=True, beta_initializer='zeros', gamma_initializer='ones', moving_mean_initializer='zeros', moving_variance_initializer='ones', beta_regularizer=None, gamma_regularizer=None, beta_constraint=None, gamma_constraint=None))\n",
        "\n",
        "model6.add(Conv2D(64, (3, 3), activation='relu'))\n",
        "model6.add(MaxPooling2D(pool_size=(2, 2)))\n",
        "\n",
        "# add conv layer and pooling layer\n",
        "model6.add(Conv2D(64, (3, 3), activation='relu'))\n",
        "model6.add(MaxPooling2D(pool_size=(2, 2)))\n",
        "\n",
        "model6.add(Dropout(0.25))\n",
        "model6.add(Flatten())\n",
        "model6.add(Dense(128, activation='relu'))\n",
        "model6.add(Dropout(0.5))\n",
        "\n",
        "# add batch norm layer\n",
        "model6.add(keras.layers.BatchNormalization(axis=-1, momentum=0.99, epsilon=0.001, center=True, scale=True, beta_initializer='zeros', gamma_initializer='ones', moving_mean_initializer='zeros', moving_variance_initializer='ones', beta_regularizer=None, gamma_regularizer=None, beta_constraint=None, gamma_constraint=None))\n",
        "\n",
        "\n",
        "model6.add(Dense(num_classes, activation='softmax'))\n",
        "\n",
        "model6.compile(loss=keras.losses.categorical_crossentropy,\n",
        "              optimizer=keras.optimizers.Adadelta(),\n",
        "              metrics=['accuracy'])\n",
        "\n",
        "model6.fit(x_train, y_train,\n",
        "          batch_size=batch_size,\n",
        "          epochs=epochs,\n",
        "          verbose=1,\n",
        "          validation_data=(x_test, y_test))\n",
        "score = model6.evaluate(x_test, y_test, verbose=0)\n",
        "print('Test loss for mymodel6:', score[0])\n",
        "print('Test accuracy for mymodel6:', score[1])"
      ],
      "execution_count": 54,
      "outputs": [
        {
          "output_type": "stream",
          "text": [
            "Train on 60000 samples, validate on 10000 samples\n",
            "Epoch 1/1\n",
            "60000/60000 [==============================] - 254s 4ms/step - loss: 0.2328 - acc: 0.9341 - val_loss: 0.0458 - val_acc: 0.9855\n",
            "Test loss for mymodel6: 0.045837517319526525\n",
            "Test accuracy for mymodel6: 0.9855\n"
          ],
          "name": "stdout"
        }
      ]
    },
    {
      "metadata": {
        "id": "TFr3mNTCjt1q",
        "colab_type": "text"
      },
      "cell_type": "markdown",
      "source": [
        "This model contains 12 layers: a conv layer with 3X3 kernal; a batch norm layer; a conv layer with 3X3 kernal; a pooling layer;  a conv layer with 3X3 kernal; a pooling layer; a Dropout(0.25) layer; a flatten layer; a dense(128) layer; a dropout(0.5) layer; a batch norm layer; a dense layer. \n",
        "\n",
        "Test accuracy for this model is : 0.9855\n",
        "\n",
        "Train accuracy for this model is : 0.9542"
      ]
    },
    {
      "metadata": {
        "id": "waM6jXyH1TCE",
        "colab_type": "text"
      },
      "cell_type": "markdown",
      "source": [
        "#### model7: revise kernal as 5X5"
      ]
    },
    {
      "metadata": {
        "id": "litGRLUV1b9i",
        "colab_type": "code",
        "outputId": "28679df2-9b1d-4f06-dfd5-8e006186dd4d",
        "colab": {
          "base_uri": "https://localhost:8080/",
          "height": 127
        }
      },
      "cell_type": "code",
      "source": [
        "#build model7 according to tutorial\n",
        "\n",
        "model7 = Sequential()\n",
        "#add layer\n",
        "model7.add(Conv2D(32, kernel_size=(5, 5),\n",
        "                 activation='relu',\n",
        "                 input_shape=input_shape))\n",
        "\n",
        "# add batch norm layer\n",
        "model7.add(keras.layers.BatchNormalization(axis=-1, momentum=0.99, epsilon=0.001, center=True, scale=True, beta_initializer='zeros', gamma_initializer='ones', moving_mean_initializer='zeros', moving_variance_initializer='ones', beta_regularizer=None, gamma_regularizer=None, beta_constraint=None, gamma_constraint=None))\n",
        "\n",
        "model7.add(Conv2D(64, (5, 5), activation='relu'))\n",
        "model7.add(MaxPooling2D(pool_size=(2, 2)))\n",
        "\n",
        "# add conv layer and pooling layer\n",
        "model7.add(Conv2D(64, (5, 5), activation='relu'))\n",
        "model7.add(MaxPooling2D(pool_size=(2, 2)))\n",
        "\n",
        "model7.add(Dropout(0.25))\n",
        "model7.add(Flatten())\n",
        "model7.add(Dense(128, activation='relu'))\n",
        "model7.add(Dropout(0.5))\n",
        "\n",
        "# add batch norm layer\n",
        "model7.add(keras.layers.BatchNormalization(axis=-1, momentum=0.99, epsilon=0.001, center=True, scale=True, beta_initializer='zeros', gamma_initializer='ones', moving_mean_initializer='zeros', moving_variance_initializer='ones', beta_regularizer=None, gamma_regularizer=None, beta_constraint=None, gamma_constraint=None))\n",
        "\n",
        "\n",
        "model7.add(Dense(num_classes, activation='softmax'))\n",
        "\n",
        "model7.compile(loss=keras.losses.categorical_crossentropy,\n",
        "              optimizer=keras.optimizers.Adadelta(),\n",
        "              metrics=['accuracy'])\n",
        "\n",
        "model7.fit(x_train, y_train,\n",
        "          batch_size=batch_size,\n",
        "          epochs=epochs,\n",
        "          verbose=1,\n",
        "          validation_data=(x_test, y_test))\n",
        "score = model7.evaluate(x_test, y_test, verbose=0)\n",
        "print('Test loss for mymodel7:', score[0])\n",
        "print('Test accuracy for mymodel7:', score[1])"
      ],
      "execution_count": 0,
      "outputs": [
        {
          "output_type": "stream",
          "text": [
            "Train on 60000 samples, validate on 10000 samples\n",
            "Epoch 1/1\n",
            "60000/60000 [==============================] - 338s 6ms/step - loss: 0.2866 - acc: 0.9180 - val_loss: 0.0673 - val_acc: 0.9794\n",
            "Test loss for mymodel6: 0.06725342419473454\n",
            "Test accuracy for mymodel6: 0.9794\n"
          ],
          "name": "stdout"
        }
      ]
    },
    {
      "metadata": {
        "id": "pVTUfTMWmMei",
        "colab_type": "text"
      },
      "cell_type": "markdown",
      "source": [
        "This model contains 12 layers: a conv layer with 5X5 kernal; a batch norm layer; a conv layer with 5X5 kernal; a pooling layer;  a conv layer with 3X3 kernal; a pooling layer; a Dropout(0.25) layer; a flatten layer; a dense(128) layer; a dropout(0.5) layer; a batch norm layer; a dense layer. \n",
        "\n",
        "Test accuracy for this model is : 0.9794\n",
        "\n",
        "Train accuracy for this model is : 0.9327"
      ]
    },
    {
      "metadata": {
        "id": "AWa8E9MV2B2f",
        "colab_type": "text"
      },
      "cell_type": "markdown",
      "source": [
        "#### model8: revise dense layer, set dense as 1000"
      ]
    },
    {
      "metadata": {
        "id": "xRitopec2IiE",
        "colab_type": "code",
        "outputId": "1b0f570c-bc94-4b57-daae-ce526df9eaa1",
        "colab": {
          "base_uri": "https://localhost:8080/",
          "height": 127
        }
      },
      "cell_type": "code",
      "source": [
        "#build model8 according to tutorial\n",
        "\n",
        "model8 = Sequential()\n",
        "#add layer\n",
        "model8.add(Conv2D(32, kernel_size=(3, 3),\n",
        "                 activation='relu',\n",
        "                 input_shape=input_shape))\n",
        "\n",
        "# add batch norm layer\n",
        "model8.add(keras.layers.BatchNormalization(axis=-1, momentum=0.99, epsilon=0.001, center=True, scale=True, beta_initializer='zeros', gamma_initializer='ones', moving_mean_initializer='zeros', moving_variance_initializer='ones', beta_regularizer=None, gamma_regularizer=None, beta_constraint=None, gamma_constraint=None))\n",
        "\n",
        "model8.add(Conv2D(64, (3, 3), activation='relu'))\n",
        "model8.add(MaxPooling2D(pool_size=(2, 2)))\n",
        "\n",
        "# add conv layer and pooling layer\n",
        "model8.add(Conv2D(64, (3, 3), activation='relu'))\n",
        "model8.add(MaxPooling2D(pool_size=(2, 2)))\n",
        "\n",
        "model8.add(Dropout(0.25))\n",
        "model8.add(Flatten())\n",
        "model8.add(Dense(1000, activation='relu'))\n",
        "model8.add(Dropout(0.5))\n",
        "\n",
        "# add batch norm layer\n",
        "model8.add(keras.layers.BatchNormalization(axis=-1, momentum=0.99, epsilon=0.001, center=True, scale=True, beta_initializer='zeros', gamma_initializer='ones', moving_mean_initializer='zeros', moving_variance_initializer='ones', beta_regularizer=None, gamma_regularizer=None, beta_constraint=None, gamma_constraint=None))\n",
        "\n",
        "\n",
        "model8.add(Dense(num_classes, activation='softmax'))\n",
        "\n",
        "model8.compile(loss=keras.losses.categorical_crossentropy,\n",
        "              optimizer=keras.optimizers.Adadelta(),\n",
        "              metrics=['accuracy'])\n",
        "\n",
        "model8.fit(x_train, y_train,\n",
        "          batch_size=batch_size,\n",
        "          epochs=epochs,\n",
        "          verbose=1,\n",
        "          validation_data=(x_test, y_test))\n",
        "score = model8.evaluate(x_test, y_test, verbose=0)\n",
        "print('Test loss for mymodel8:', score[0])\n",
        "print('Test accuracy for mymodel8:', score[1])"
      ],
      "execution_count": 0,
      "outputs": [
        {
          "output_type": "stream",
          "text": [
            "Train on 60000 samples, validate on 10000 samples\n",
            "Epoch 1/1\n",
            "60000/60000 [==============================] - 281s 5ms/step - loss: 0.1343 - acc: 0.9586 - val_loss: 0.0519 - val_acc: 0.9837\n",
            "Test loss for mymodel6: 0.051948512578918596\n",
            "Test accuracy for mymodel6: 0.9837\n"
          ],
          "name": "stdout"
        }
      ]
    },
    {
      "metadata": {
        "id": "CQkBcifmm5hO",
        "colab_type": "text"
      },
      "cell_type": "markdown",
      "source": [
        "This model contains 12 layers: a conv layer with 3X3 kernal; a batch norm layer; a conv layer with 3X3 kernal; a pooling layer;  a conv layer with 3X3 kernal; a pooling layer; a Dropout(0.25) layer; a flatten layer; a dense(1000) layer; a dropout(0.5) layer; a batch norm layer; a dense layer. \n",
        "\n",
        "Test accuracy for this model is : 0.9837\n",
        "Train accuracy for this model is : 0.9481"
      ]
    },
    {
      "metadata": {
        "id": "PlVboYdO8BGP",
        "colab_type": "text"
      },
      "cell_type": "markdown",
      "source": [
        "#### model9 change dense = 5"
      ]
    },
    {
      "metadata": {
        "id": "aXaN8ryN8YYY",
        "colab_type": "code",
        "outputId": "b9830f6d-f9d1-4ffe-8922-dd9bbc898938",
        "colab": {
          "base_uri": "https://localhost:8080/",
          "height": 127
        }
      },
      "cell_type": "code",
      "source": [
        "#build model9 according to tutorial\n",
        "\n",
        "model9 = Sequential()\n",
        "#add layer\n",
        "model9.add(Conv2D(32, kernel_size=(3, 3),\n",
        "                 activation='relu',\n",
        "                 input_shape=input_shape))\n",
        "\n",
        "# add batch norm layer\n",
        "model9.add(keras.layers.BatchNormalization(axis=-1, momentum=0.99, epsilon=0.001, center=True, scale=True, beta_initializer='zeros', gamma_initializer='ones', moving_mean_initializer='zeros', moving_variance_initializer='ones', beta_regularizer=None, gamma_regularizer=None, beta_constraint=None, gamma_constraint=None))\n",
        "\n",
        "model9.add(Conv2D(64, (3, 3), activation='relu'))\n",
        "model9.add(MaxPooling2D(pool_size=(2, 2)))\n",
        "\n",
        "# add conv layer and pooling layer\n",
        "model9.add(Conv2D(64, (3, 3), activation='relu'))\n",
        "model9.add(MaxPooling2D(pool_size=(2, 2)))\n",
        "\n",
        "model9.add(Dropout(0.25))\n",
        "model9.add(Flatten())\n",
        "model9.add(Dense(5, activation='relu'))\n",
        "model9.add(Dropout(0.5))\n",
        "\n",
        "# add batch norm layer\n",
        "model9.add(keras.layers.BatchNormalization(axis=-1, momentum=0.99, epsilon=0.001, center=True, scale=True, beta_initializer='zeros', gamma_initializer='ones', moving_mean_initializer='zeros', moving_variance_initializer='ones', beta_regularizer=None, gamma_regularizer=None, beta_constraint=None, gamma_constraint=None))\n",
        "\n",
        "\n",
        "model9.add(Dense(num_classes, activation='softmax'))\n",
        "\n",
        "model9.compile(loss=keras.losses.categorical_crossentropy,\n",
        "              optimizer=keras.optimizers.Adadelta(),\n",
        "              metrics=['accuracy'])\n",
        "\n",
        "model9.fit(x_train, y_train,\n",
        "          batch_size=batch_size,\n",
        "          epochs=epochs,\n",
        "          verbose=1,\n",
        "          validation_data=(x_test, y_test))\n",
        "score = model9.evaluate(x_test, y_test, verbose=0)\n",
        "print('Test loss for mymodel9:', score[0])\n",
        "print('Test accuracy for mymodel9:', score[1])"
      ],
      "execution_count": 0,
      "outputs": [
        {
          "output_type": "stream",
          "text": [
            "Train on 60000 samples, validate on 10000 samples\n",
            "Epoch 1/1\n",
            "60000/60000 [==============================] - 256s 4ms/step - loss: 1.7585 - acc: 0.3550 - val_loss: 1.0611 - val_acc: 0.8668\n",
            "Test loss for mymodel9: 1.0610666137695313\n",
            "Test accuracy for mymodel9: 0.8668\n"
          ],
          "name": "stdout"
        }
      ]
    },
    {
      "metadata": {
        "id": "AT7sTH2dnIos",
        "colab_type": "text"
      },
      "cell_type": "markdown",
      "source": [
        "This model contains 12 layers: a conv layer with 3X3 kernal; a batch norm layer; a conv layer with 3X3 kernal; a pooling layer;  a conv layer with 3X3 kernal; a pooling layer; a Dropout(0.25) layer; a flatten layer; a dense(5) layer; a dropout(0.5) layer; a batch norm layer; a dense layer. \n",
        "\n",
        "Test accuracy for this model is : 0.8668\n"
      ]
    },
    {
      "metadata": {
        "id": "ACu2zUXt8QWB",
        "colab_type": "text"
      },
      "cell_type": "markdown",
      "source": [
        "#### model10 change dense = 64"
      ]
    },
    {
      "metadata": {
        "id": "wokfmf7_9ztF",
        "colab_type": "code",
        "outputId": "81795d0d-816c-4d7d-eea2-1139ca3bb26f",
        "colab": {
          "base_uri": "https://localhost:8080/",
          "height": 127
        }
      },
      "cell_type": "code",
      "source": [
        "#build model0 according to tutorial\n",
        "\n",
        "model0 = Sequential()\n",
        "#add layer\n",
        "model0.add(Conv2D(32, kernel_size=(3, 3),\n",
        "                 activation='relu',\n",
        "                 input_shape=input_shape))\n",
        "\n",
        "# add batch norm layer\n",
        "model0.add(keras.layers.BatchNormalization(axis=-1, momentum=0.99, epsilon=0.001, center=True, scale=True, beta_initializer='zeros', gamma_initializer='ones', moving_mean_initializer='zeros', moving_variance_initializer='ones', beta_regularizer=None, gamma_regularizer=None, beta_constraint=None, gamma_constraint=None))\n",
        "\n",
        "model0.add(Conv2D(64, (3, 3), activation='relu'))\n",
        "model0.add(MaxPooling2D(pool_size=(2, 2)))\n",
        "\n",
        "# add conv layer and pooling layer\n",
        "model0.add(Conv2D(64, (3, 3), activation='relu'))\n",
        "model0.add(MaxPooling2D(pool_size=(2, 2)))\n",
        "\n",
        "model0.add(Dropout(0.25))\n",
        "model0.add(Flatten())\n",
        "model0.add(Dense(64, activation='relu'))\n",
        "model0.add(Dropout(0.5))\n",
        "\n",
        "# add batch norm layer\n",
        "model0.add(keras.layers.BatchNormalization(axis=-1, momentum=0.99, epsilon=0.001, center=True, scale=True, beta_initializer='zeros', gamma_initializer='ones', moving_mean_initializer='zeros', moving_variance_initializer='ones', beta_regularizer=None, gamma_regularizer=None, beta_constraint=None, gamma_constraint=None))\n",
        "\n",
        "\n",
        "model0.add(Dense(num_classes, activation='softmax'))\n",
        "\n",
        "model0.compile(loss=keras.losses.categorical_crossentropy,\n",
        "              optimizer=keras.optimizers.Adadelta(),\n",
        "              metrics=['accuracy'])\n",
        "\n",
        "model0.fit(x_train, y_train,\n",
        "          batch_size=batch_size,\n",
        "          epochs=epochs,\n",
        "          verbose=1,\n",
        "          validation_data=(x_test, y_test))\n",
        "score = model0.evaluate(x_test, y_test, verbose=0)\n",
        "print('Test loss for mymodel0:', score[0])\n",
        "print('Test accuracy for mymodel0:', score[1])"
      ],
      "execution_count": 0,
      "outputs": [
        {
          "output_type": "stream",
          "text": [
            "Train on 60000 samples, validate on 10000 samples\n",
            "Epoch 1/1\n",
            "60000/60000 [==============================] - 261s 4ms/step - loss: 0.6410 - acc: 0.8219 - val_loss: 0.0699 - val_acc: 0.9819\n",
            "Test loss for mymodel0: 0.06985671087801457\n",
            "Test accuracy for mymodel0: 0.9819\n"
          ],
          "name": "stdout"
        }
      ]
    },
    {
      "metadata": {
        "id": "mBk9GigAnZOz",
        "colab_type": "text"
      },
      "cell_type": "markdown",
      "source": [
        "This model contains 12 layers: a conv layer with 3X3 kernal; a batch norm layer; a conv layer with 3X3 kernal; a pooling layer;  a conv layer with 3X3 kernal; a pooling layer; a Dropout(0.25) layer; a flatten layer; a dense(64) layer; a dropout(0.5) layer; a batch norm layer; a dense layer. \n",
        "\n",
        "Test accuracy for this model is : 0.9819\n",
        "\n",
        "Train accuracy for this model is : 0.9302"
      ]
    },
    {
      "metadata": {
        "id": "u1DPR1w78wJD",
        "colab_type": "text"
      },
      "cell_type": "markdown",
      "source": [
        "#### model11 change third conv2d = 128"
      ]
    },
    {
      "metadata": {
        "id": "9DmyCKwU_OX-",
        "colab_type": "code",
        "outputId": "87159c1b-8fba-46eb-8646-71b1e277e108",
        "colab": {
          "base_uri": "https://localhost:8080/",
          "height": 127
        }
      },
      "cell_type": "code",
      "source": [
        "#build model11 according to tutorial\n",
        "\n",
        "model11 = Sequential()\n",
        "#add layer\n",
        "model11.add(Conv2D(32, kernel_size=(3, 3),\n",
        "                 activation='relu',\n",
        "                 input_shape=input_shape))\n",
        "\n",
        "# add batch norm layer\n",
        "model11.add(keras.layers.BatchNormalization(axis=-1, momentum=0.99, epsilon=0.001, center=True, scale=True, beta_initializer='zeros', gamma_initializer='ones', moving_mean_initializer='zeros', moving_variance_initializer='ones', beta_regularizer=None, gamma_regularizer=None, beta_constraint=None, gamma_constraint=None))\n",
        "\n",
        "model11.add(Conv2D(64, (3, 3), activation='relu'))\n",
        "model11.add(MaxPooling2D(pool_size=(2, 2)))\n",
        "\n",
        "# add conv layer and pooling layer\n",
        "model11.add(Conv2D(128, (3, 3), activation='relu'))\n",
        "model11.add(MaxPooling2D(pool_size=(2, 2)))\n",
        "\n",
        "model11.add(Dropout(0.25))\n",
        "model11.add(Flatten())\n",
        "model11.add(Dense(5, activation='relu'))\n",
        "model11.add(Dropout(0.5))\n",
        "\n",
        "# add batch norm layer\n",
        "model11.add(keras.layers.BatchNormalization(axis=-1, momentum=0.99, epsilon=0.001, center=True, scale=True, beta_initializer='zeros', gamma_initializer='ones', moving_mean_initializer='zeros', moving_variance_initializer='ones', beta_regularizer=None, gamma_regularizer=None, beta_constraint=None, gamma_constraint=None))\n",
        "\n",
        "\n",
        "model11.add(Dense(num_classes, activation='softmax'))\n",
        "\n",
        "model11.compile(loss=keras.losses.categorical_crossentropy,\n",
        "              optimizer=keras.optimizers.Adadelta(),\n",
        "              metrics=['accuracy'])\n",
        "\n",
        "model11.fit(x_train, y_train,\n",
        "          batch_size=batch_size,\n",
        "          epochs=epochs,\n",
        "          verbose=1,\n",
        "          validation_data=(x_test, y_test))\n",
        "score = model11.evaluate(x_test, y_test, verbose=0)\n",
        "print('Test loss for mymodel11:', score[0])\n",
        "print('Test accuracy for mymodel11:', score[1])"
      ],
      "execution_count": 0,
      "outputs": [
        {
          "output_type": "stream",
          "text": [
            "Train on 60000 samples, validate on 10000 samples\n",
            "Epoch 1/1\n",
            "60000/60000 [==============================] - 294s 5ms/step - loss: 1.7756 - acc: 0.3326 - val_loss: 0.8206 - val_acc: 0.8767\n",
            "Test loss for mymodel11: 0.8206356763839722\n",
            "Test accuracy for mymodel11: 0.8767\n"
          ],
          "name": "stdout"
        }
      ]
    },
    {
      "metadata": {
        "id": "hwGerUiNo-Vt",
        "colab_type": "text"
      },
      "cell_type": "markdown",
      "source": [
        "This model contains 12 layers: a conv layer with 3X3 kernal; a batch norm layer; a conv layer with 3X3 kernal; a pooling layer; a conv layer with 3X3 kernal; a pooling layer; a Dropout(0.25) layer; a flatten layer; a dense(128) layer; a dropout(0.5) layer; a batch norm layer; a dense layer. \n",
        "\n",
        "Test accuracy for this model is : 0.8206"
      ]
    },
    {
      "metadata": {
        "id": "mDbHLzWahUn1",
        "colab_type": "text"
      },
      "cell_type": "markdown",
      "source": [
        "### Table of my hyperparameter settings and the associated performance"
      ]
    },
    {
      "metadata": {
        "id": "VZhd5aOVhdxv",
        "colab_type": "text"
      },
      "cell_type": "markdown",
      "source": [
        "All these models are trained with 60000 train samples in MNIST dataset, \n",
        "and tested with 10000 test samples in MNIST dataset."
      ]
    },
    {
      "metadata": {
        "id": "XwDwfiopriP_",
        "colab_type": "text"
      },
      "cell_type": "markdown",
      "source": [
        " batch_size = 128; num_classes = 10; epochs = 1\n",
        "\n",
        "\n",
        "| layer composition and hyperparameter      |        |        |     |   |\n",
        "|------------------------------------------|-------:|-------:|----:|--:|\n",
        "| conv(32, kernel 3X3)                     |    3X3   |    3X3   | 5X5 |  3X3 | 3X3|3X3|3X3|3X3|\n",
        "| batch norm(momentum=0.99, epsilon=0.001) |    ✓   |   ✘     |  ✓   | ✓  | ✓|✓|✓| ✓|\n",
        "| conv(64, kernel 3X3)                     | ✓      | ✓      | ✓    | ✓  |✓|✓|✓|✓|\n",
        "| pooling(2X2)                            | ✓      |    ✓   |   ✓  |  ✓ |✓|✓|✓|✓|\n",
        "| conv(64, kernel 3X3)                     |    3X3   | 3X3      | 5X5     |  3X3 |3X3|3X3|3X3|✘ |\n",
        "| pooling(2X2)                            |    ✓   |    ✓   |  ✓   | ✓  |✓|✓|✓|✘ |\n",
        "| dropout(0.25)                            |    ✓   |    ✓   | ✓    | ✓  |✓|✓|✓|✓|\n",
        "| flatten                                  |    ✓   |    ✓   |  ✓   | ✓  |✓|✓|✓|✓|\n",
        "| dense(128)                               |    128   |    128   |  128   | 1000  |5|64|11|128|\n",
        "| dropout(0.5)                             |    ✓   |    ✓   |  ✓   |  ✓ |✓|✓|✓|✓|\n",
        "| batch norm(momentum=0.99, epsilon=0.001) |    ✓   |   ✘     |  ✓   | ✓  |✓|✓|✓|✘ |\n",
        "| dense                                    |    ✓   |    ✓   |  ✓   |  ✓ |✓|✓|✓|✓|\n",
        "|    Test Accuracy on MNIST 1000testset    | 0.9855 | 0.9839 |    0.9794 | 0.9837  |0.8668|0.9819|0.8266|0.9822|\n"
      ]
    },
    {
      "metadata": {
        "id": "siOrXEqj3H_5",
        "colab_type": "text"
      },
      "cell_type": "markdown",
      "source": [
        "We use the test accuracy as the metrix to evaluate the performance of the model we build with the change of hyperparameter. \n",
        "\n",
        "We find that batch norm layer is better to add between conv layers or near the output layer, but before the dense layer, and properly add batch norm layer will increase the performance. Model with two batch norm layers will performs batter than model with one batch norm layer.\n",
        "\n",
        "Then, for the kernal size in conv layer, 3X3 is enough for this classification experiment on MNIST dataset. 5X5 is so large that decreased the performance.\n",
        "The kernel size generally refers to the widthxheight of the filter mask. The max pooling layer, for example, returns the pixel with maximum value from a set of pixels within a mask (kernel). Very small kernal sizes will capture very fine details of the image. On the other hand having a bigger kernal size will leave out minute details in the image.\n",
        "\n",
        "For dense layer: 128 is quite good, we have tried 5, 11, 64, 1000, we find slightly increase th dense  or make the dense really big, such as 1000, which won't make a big difference on the performance, but if the dense is so low, it decrease the performance severely. A dense layer we can understand it as a  regular layer of neurons in a neural network.\n",
        "\n",
        "For pooling layer: 2X2 is good for this experiment.\n",
        "Pooling layer It is also referred to as a downsampling layer. In this category, there are also several layer options, with maxpooling being the most popular. This basically takes a filter (normally of size 2x2) and a stride of the same length. It then applies it to the input volume and outputs the maximum number in every subregion that the filter convolves around.\n",
        "\n",
        "For dropout layer: I have two drop out layers in my model, both of them are after the conv and pooling layer, one dropout value is 0.25, another is 0.5, which are good choices. Dropout is a a technique used to tackle Overfitting . The Dropout method in keras.layers module takes in a float between 0 and 1, which is the fraction of the neurons to drop.\n",
        "\n",
        "For batch size: My choice of 128 is a good guess. Both give us a not bad loss and a reasonalble tranning speed. Batch size determines the number of samples in each mini batch.\n",
        "\n",
        "For epoch: My choice of 1 is not a good guess. I choose 1 only because of the trainning speed is so slow. \n"
      ]
    },
    {
      "metadata": {
        "id": "N_B3uXbuhA2d",
        "colab_type": "text"
      },
      "cell_type": "markdown",
      "source": [
        "### Confusion matrix for my best model"
      ]
    },
    {
      "metadata": {
        "id": "2j6np6xYjbbt",
        "colab_type": "text"
      },
      "cell_type": "markdown",
      "source": [
        "My best model is model6, I add a batch norm layer with (momentum=0.99, epsilon=0.001) after the 1st conv layer, then  I add a new conv layer with Conv2D(64, (3, 3 )and pooling layer with pool size (2,2) after the batch layer, "
      ]
    },
    {
      "metadata": {
        "id": "CTO-cwNvjaYQ",
        "colab_type": "code",
        "colab": {
          "base_uri": "https://localhost:8080/",
          "height": 221
        },
        "outputId": "da262bea-3a60-487a-9745-587a85a0e9e6"
      },
      "cell_type": "code",
      "source": [
        "from sklearn.metrics import confusion_matrix\n",
        "import numpy as np\n",
        "\n",
        "Y_pred = model6.predict(x_test)\n",
        "y_pred = np.argmax(Y_pred, axis=1)\n",
        "Y_test = np.argmax(y_test, axis=1)\n",
        "\n",
        "print(\"y_predicted_values\", y_pred)\n",
        "print(\"Y_test_values\", Y_test)\n",
        "\n",
        "#import matplotlib.pyplot as plt \n",
        "cfm = confusion_matrix(Y_test, y_pred)\n",
        "\n",
        "print (cfm)"
      ],
      "execution_count": 55,
      "outputs": [
        {
          "output_type": "stream",
          "text": [
            "y_predicted_values [7 2 1 ... 4 5 6]\n",
            "Y_test_values [7 2 1 ... 4 5 6]\n",
            "[[ 973    0    4    0    0    1    1    1    0    0]\n",
            " [   0 1127    3    4    0    1    0    0    0    0]\n",
            " [   0    1 1027    2    0    0    0    1    1    0]\n",
            " [   0    0    5  997    0    6    0    1    1    0]\n",
            " [   1    1    3    0  967    0    4    0    3    3]\n",
            " [   1    0    1    4    0  884    1    1    0    0]\n",
            " [   5    2    1    1    1    8  940    0    0    0]\n",
            " [   0    2   17    3    0    1    0 1003    1    1]\n",
            " [   2    1    4    2    1    1    0    2  956    5]\n",
            " [   4    3    0    2    3    8    0    6    2  981]]\n"
          ],
          "name": "stdout"
        }
      ]
    },
    {
      "metadata": {
        "id": "rbNEij6Rpq11",
        "colab_type": "code",
        "colab": {
          "base_uri": "https://localhost:8080/",
          "height": 394
        },
        "outputId": "c702ed64-c52d-4bd6-d10f-9b94c494dff1"
      },
      "cell_type": "code",
      "source": [
        "## A more elegant preserntation for a confusion matrix\n",
        "\n",
        "import itertools\n",
        "def plot_confusion_matrix(cm, classes,\n",
        "                          normalize=False,\n",
        "                          title='Confusion matrix',\n",
        "                          cmap=plt.cm.Blues):\n",
        "    \"\"\"\n",
        "    This function prints and plots the confusion matrix.\n",
        "    Normalization can be applied by setting `normalize=True`.\n",
        "    \"\"\"\n",
        "    if normalize:\n",
        "        cm = cm.astype('float') / cm.sum(axis=1)[:, np.newaxis]\n",
        "        print(\"Normalized confusion matrix\")\n",
        "    else:\n",
        "        print('Confusion matrix, without normalization')\n",
        "\n",
        "    #print(cm)\n",
        "\n",
        "    plt.imshow(cm, interpolation='nearest', cmap=cmap)\n",
        "    plt.title(title)\n",
        "    plt.colorbar()\n",
        "    tick_marks = np.arange(len(classes))\n",
        "    plt.xticks(tick_marks, classes, rotation=45)\n",
        "    plt.yticks(tick_marks, classes)\n",
        "\n",
        "    fmt = '.2f' if normalize else 'd'\n",
        "    thresh = cm.max() / 2.\n",
        "    for i, j in itertools.product(range(cm.shape[0]), range(cm.shape[1])):\n",
        "        plt.text(j, i, format(cm[i, j], fmt),\n",
        "                 horizontalalignment=\"center\",\n",
        "                 color=\"white\" if cm[i, j] > thresh else \"black\")\n",
        "        \n",
        "    plt.ylabel('True label')\n",
        "    plt.xlabel('Predicted label')\n",
        "    #plt.tight_layout()\n",
        "    plt.show()\n",
        "\n",
        "plot_confusion_matrix(cfm, classes=range(10), normalize=True,\n",
        "                      title='Confusion matrix for MNIST')"
      ],
      "execution_count": 61,
      "outputs": [
        {
          "output_type": "stream",
          "text": [
            "Normalized confusion matrix\n"
          ],
          "name": "stdout"
        },
        {
          "output_type": "display_data",
          "data": {
            "image/png": "[encoded data removed]",
            "text/plain": [
              "<matplotlib.figure.Figure at 0x7f9ad9ad4f60>"
            ]
          },
          "metadata": {
            "tags": []
          }
        }
      ]
    },
    {
      "metadata": {
        "id": "lx6Fzhrlyjuu",
        "colab_type": "text"
      },
      "cell_type": "markdown",
      "source": [
        "### DIscussion"
      ]
    },
    {
      "metadata": {
        "id": "IEge6xgB52bv",
        "colab_type": "text"
      },
      "cell_type": "markdown",
      "source": [
        "We use the test accuracy as the metrix to evaluate the performance of the model we build. \n",
        "\n",
        "**For batch norm layer** :\n",
        "\n",
        "We find that to increase the performance, the batch norm layer is better to add between conv layers or near the output layer, but before the dense layer.\n",
        "Through my experiment on adding different numbers of batch norm layer, I find my model with 2 batch norm layer will be better than my model with only one batch norm layer. And the first batch norm layer I add between the two conv layer, the second I add before the last dense layer near the output layer.\n",
        "\n",
        "Main parameters of my batch norm layer is: axis=-1, momentum=0.99, epsilon=0.001\n",
        "\n",
        "Sometimes batch norm layer will destroy the model, especially when we do batch norm before the first conv layer or in the output layer.\n",
        "\n",
        "For the reason, we can think that the batch norm will be some kind of adaptive (or learnable) pre-processing block with trainable parameters. Which also means that we need to back-propagate them.\n",
        "\n",
        "Here is the list of advantages of using Batch-Norm:\n",
        "\n",
        "1. Improves gradient flow, used on very deep models (Resnet need this)\n",
        "2. Allow higher learning rates\n",
        "3. Reduce dependency on initialization\n",
        "4. Gives some kind of regularization (Even make Dropout less important but keep using it)\n",
        "5. As a rule of thumb if you use Dropout+BatchNorm you don't need L2 regularization\n",
        "\n",
        "**For kernal size in conv layer**:  \n",
        "\n",
        "3X3 is enough for this classification experiment on MNIST dataset. 5X5 is so large that decreased the performance.\n",
        "The kernel size generally refers to the widthxheight of the filter mask. The max pooling layer, for example, returns the pixel with maximum value from a set of pixels within a mask (kernel). Very small kernal sizes will capture very fine details of the image. On the other hand having a bigger kernal size will leave out minute details in the image.\n",
        "\n",
        "**For dense layer**:\n",
        "\n",
        "128 is quite good, we have tried 5, 11, 64, 1000, we find slightly increase th dense  or make the dense really big, such as 1000, which won't make a big difference on the performance, but if the dense is so low, it decrease the performance severely.\n",
        "\n",
        "A dense layer we can understand it as a  regular layer of neurons in a neural network. Each neuron recieves input from all the neurons in the previous layer, thus densely connected. The layer has a weight matrix W, a bias vector b, and the activations of previous layer a. The following is te docstring of class Dense from the keras documentation:\n",
        "\n",
        "*output = activation(dot(input, kernel) + bias)*\n",
        "\n",
        "where activation is the element-wise activation function passed as the activation argument, kernel is a weights matrix created by the layer, and bias is a bias vector created by the layer.\n",
        "\n",
        "**For pooling layer**:\n",
        "\n",
        "2X2 is good for this experiment.\n",
        "Pooling layer It is also referred to as a downsampling layer. In this category, there are also several layer options, with maxpooling being the most popular. This basically takes a filter (normally of size 2x2) and a stride of the same length. It then applies it to the input volume and outputs the maximum number in every subregion that the filter convolves around.\n",
        "\n",
        "**For dropout layer**:\n",
        "I have two drop out layers in my model, both of them are after the conv and pooling layer, one dropout value is 0.25, another is 0.5, which are good choices.\n",
        "\n",
        "Dropout is a a technique used to tackle Overfitting . The Dropout method in keras.layers module takes in a float between 0 and 1, which is the fraction of the neurons to drop. Below is the docstring of the Dropout method from the documentation:\n",
        "\n",
        "Dropout consists in randomly setting a fraction rate of input units to 0 at each update during training time, which helps prevent overfitting.\n",
        "\n",
        "**For batch size**:\n",
        "\n",
        "My choice of 128 is a good guess. Both give us a not bad loss and a reasonalble tranning speed.\n",
        "\n",
        "batch size determines the number of samples in each mini batch. Its maximum is the number of all samples, which makes gradient descent accurate, the loss will decrease towards the minimum if the learning rate is small enough, but iterations are slower. Its minimum is 1, resulting in stochastic gradient descent: Fast but the direction of the gradient step is based only on one example, the loss may jump around.\n",
        "\n",
        "**For epoch**:\n",
        "\n",
        "My choice of 1 is not a good guess. I choose 1 only because of the trainning speed is so slow. \n",
        "\n",
        "The number of epochs is a hyperparameter that defines the number times that the learning algorithm will work through the entire training dataset.\n",
        "\n",
        "\n",
        "\n",
        "**All in all,** there is no way to determine a good network topology just from the number of inputs and outputs. It depends critically on the number of training examples and the complexity of the classification you are trying to learn. A scientist  Yoshua Bengio has proposed a very simple rule:\n",
        "\n",
        "Just keep adding layers until the test error does not improve anymore.\n",
        "\n",
        "This rule is in accordance with my results, I add one more conv layer and pooling layer, the permormance of my model increases."
      ]
    }
  ]
}